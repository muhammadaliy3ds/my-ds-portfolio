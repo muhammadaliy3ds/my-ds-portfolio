{
  "cells": [
    {
      "cell_type": "markdown",
      "source": [
        "# 💼Airfare price prediction✈:"
      ],
      "metadata": {
        "id": "Z-a3VN6F1PCa"
      }
    },
    {
      "cell_type": "markdown",
      "source": [
        "Of course, no one can predict exactly how much the price of a plane ticket will be divided. But we try to predict the price of the air ticket according to the given information."
      ],
      "metadata": {
        "id": "UP9_iCJw1tCV"
      }
    },
    {
      "cell_type": "markdown",
      "metadata": {
        "id": "427u9ScQI6Ls"
      },
      "source": [
        "<div style=\"color:black;\n",
        "           display:fill;\n",
        "           border-radius:5px;\n",
        "           background-color:#00b3ff;\n",
        "           font-size:300%;\n",
        "           font-family:Verdana;   \n",
        "           letter-spacing:0.5px\">\n",
        "\n",
        "<p style=\"font-size:30px;text-align:left\">Airfare price prediction🎯</p>\n",
        "</div>"
      ]
    },
    {
      "cell_type": "code",
      "execution_count": 1,
      "metadata": {
        "id": "8szQcWK36po7"
      },
      "outputs": [],
      "source": [
        "import pandas as pd\n",
        "import numpy as np\n",
        "import seaborn as sns\n",
        "import matplotlib.pyplot as plt\n",
        "import sklearn\n",
        "import html5lib\n",
        "\n",
        "%matplotlib inline"
      ]
    },
    {
      "cell_type": "markdown",
      "metadata": {
        "id": "Wld9HRlk61Cu"
      },
      "source": [
        "#### Import datasets:"
      ]
    },
    {
      "cell_type": "code",
      "execution_count": 2,
      "metadata": {
        "colab": {
          "base_uri": "https://localhost:8080/",
          "height": 238
        },
        "id": "OZo1xZFp7EK_",
        "outputId": "f551e9e7-3705-4423-bf88-a834729a5b68"
      },
      "outputs": [
        {
          "output_type": "execute_result",
          "data": {
            "text/plain": [
              "     airline   flight source_city departure_time stops arrival_time  \\\n",
              "id                                                                    \n",
              "1    Vistara   UK-810   Bangalore  Early_Morning   one        Night   \n",
              "2   SpiceJet  SG-5094   Hyderabad        Evening  zero        Night   \n",
              "3    Vistara   UK-846   Bangalore        Morning   one      Evening   \n",
              "4    Vistara   UK-706     Kolkata        Morning   one      Evening   \n",
              "5     Indigo  6E-5394     Chennai  Early_Morning  zero      Morning   \n",
              "\n",
              "   destination_city     class  duration  days_left  price  \n",
              "id                                                         \n",
              "1            Mumbai   Economy     14.25         21   7212  \n",
              "2           Kolkata   Economy      1.75          7   5292  \n",
              "3             Delhi  Business      9.58          5  60553  \n",
              "4         Hyderabad   Economy      6.75         28   5760  \n",
              "5            Mumbai   Economy      2.00          4  10712  "
            ],
            "text/html": [
              "\n",
              "  <div id=\"df-14e57882-6e05-46a6-8b7c-819468565d31\">\n",
              "    <div class=\"colab-df-container\">\n",
              "      <div>\n",
              "<style scoped>\n",
              "    .dataframe tbody tr th:only-of-type {\n",
              "        vertical-align: middle;\n",
              "    }\n",
              "\n",
              "    .dataframe tbody tr th {\n",
              "        vertical-align: top;\n",
              "    }\n",
              "\n",
              "    .dataframe thead th {\n",
              "        text-align: right;\n",
              "    }\n",
              "</style>\n",
              "<table border=\"1\" class=\"dataframe\">\n",
              "  <thead>\n",
              "    <tr style=\"text-align: right;\">\n",
              "      <th></th>\n",
              "      <th>airline</th>\n",
              "      <th>flight</th>\n",
              "      <th>source_city</th>\n",
              "      <th>departure_time</th>\n",
              "      <th>stops</th>\n",
              "      <th>arrival_time</th>\n",
              "      <th>destination_city</th>\n",
              "      <th>class</th>\n",
              "      <th>duration</th>\n",
              "      <th>days_left</th>\n",
              "      <th>price</th>\n",
              "    </tr>\n",
              "    <tr>\n",
              "      <th>id</th>\n",
              "      <th></th>\n",
              "      <th></th>\n",
              "      <th></th>\n",
              "      <th></th>\n",
              "      <th></th>\n",
              "      <th></th>\n",
              "      <th></th>\n",
              "      <th></th>\n",
              "      <th></th>\n",
              "      <th></th>\n",
              "      <th></th>\n",
              "    </tr>\n",
              "  </thead>\n",
              "  <tbody>\n",
              "    <tr>\n",
              "      <th>1</th>\n",
              "      <td>Vistara</td>\n",
              "      <td>UK-810</td>\n",
              "      <td>Bangalore</td>\n",
              "      <td>Early_Morning</td>\n",
              "      <td>one</td>\n",
              "      <td>Night</td>\n",
              "      <td>Mumbai</td>\n",
              "      <td>Economy</td>\n",
              "      <td>14.25</td>\n",
              "      <td>21</td>\n",
              "      <td>7212</td>\n",
              "    </tr>\n",
              "    <tr>\n",
              "      <th>2</th>\n",
              "      <td>SpiceJet</td>\n",
              "      <td>SG-5094</td>\n",
              "      <td>Hyderabad</td>\n",
              "      <td>Evening</td>\n",
              "      <td>zero</td>\n",
              "      <td>Night</td>\n",
              "      <td>Kolkata</td>\n",
              "      <td>Economy</td>\n",
              "      <td>1.75</td>\n",
              "      <td>7</td>\n",
              "      <td>5292</td>\n",
              "    </tr>\n",
              "    <tr>\n",
              "      <th>3</th>\n",
              "      <td>Vistara</td>\n",
              "      <td>UK-846</td>\n",
              "      <td>Bangalore</td>\n",
              "      <td>Morning</td>\n",
              "      <td>one</td>\n",
              "      <td>Evening</td>\n",
              "      <td>Delhi</td>\n",
              "      <td>Business</td>\n",
              "      <td>9.58</td>\n",
              "      <td>5</td>\n",
              "      <td>60553</td>\n",
              "    </tr>\n",
              "    <tr>\n",
              "      <th>4</th>\n",
              "      <td>Vistara</td>\n",
              "      <td>UK-706</td>\n",
              "      <td>Kolkata</td>\n",
              "      <td>Morning</td>\n",
              "      <td>one</td>\n",
              "      <td>Evening</td>\n",
              "      <td>Hyderabad</td>\n",
              "      <td>Economy</td>\n",
              "      <td>6.75</td>\n",
              "      <td>28</td>\n",
              "      <td>5760</td>\n",
              "    </tr>\n",
              "    <tr>\n",
              "      <th>5</th>\n",
              "      <td>Indigo</td>\n",
              "      <td>6E-5394</td>\n",
              "      <td>Chennai</td>\n",
              "      <td>Early_Morning</td>\n",
              "      <td>zero</td>\n",
              "      <td>Morning</td>\n",
              "      <td>Mumbai</td>\n",
              "      <td>Economy</td>\n",
              "      <td>2.00</td>\n",
              "      <td>4</td>\n",
              "      <td>10712</td>\n",
              "    </tr>\n",
              "  </tbody>\n",
              "</table>\n",
              "</div>\n",
              "      <button class=\"colab-df-convert\" onclick=\"convertToInteractive('df-14e57882-6e05-46a6-8b7c-819468565d31')\"\n",
              "              title=\"Convert this dataframe to an interactive table.\"\n",
              "              style=\"display:none;\">\n",
              "        \n",
              "  <svg xmlns=\"http://www.w3.org/2000/svg\" height=\"24px\"viewBox=\"0 0 24 24\"\n",
              "       width=\"24px\">\n",
              "    <path d=\"M0 0h24v24H0V0z\" fill=\"none\"/>\n",
              "    <path d=\"M18.56 5.44l.94 2.06.94-2.06 2.06-.94-2.06-.94-.94-2.06-.94 2.06-2.06.94zm-11 1L8.5 8.5l.94-2.06 2.06-.94-2.06-.94L8.5 2.5l-.94 2.06-2.06.94zm10 10l.94 2.06.94-2.06 2.06-.94-2.06-.94-.94-2.06-.94 2.06-2.06.94z\"/><path d=\"M17.41 7.96l-1.37-1.37c-.4-.4-.92-.59-1.43-.59-.52 0-1.04.2-1.43.59L10.3 9.45l-7.72 7.72c-.78.78-.78 2.05 0 2.83L4 21.41c.39.39.9.59 1.41.59.51 0 1.02-.2 1.41-.59l7.78-7.78 2.81-2.81c.8-.78.8-2.07 0-2.86zM5.41 20L4 18.59l7.72-7.72 1.47 1.35L5.41 20z\"/>\n",
              "  </svg>\n",
              "      </button>\n",
              "      \n",
              "  <style>\n",
              "    .colab-df-container {\n",
              "      display:flex;\n",
              "      flex-wrap:wrap;\n",
              "      gap: 12px;\n",
              "    }\n",
              "\n",
              "    .colab-df-convert {\n",
              "      background-color: #E8F0FE;\n",
              "      border: none;\n",
              "      border-radius: 50%;\n",
              "      cursor: pointer;\n",
              "      display: none;\n",
              "      fill: #1967D2;\n",
              "      height: 32px;\n",
              "      padding: 0 0 0 0;\n",
              "      width: 32px;\n",
              "    }\n",
              "\n",
              "    .colab-df-convert:hover {\n",
              "      background-color: #E2EBFA;\n",
              "      box-shadow: 0px 1px 2px rgba(60, 64, 67, 0.3), 0px 1px 3px 1px rgba(60, 64, 67, 0.15);\n",
              "      fill: #174EA6;\n",
              "    }\n",
              "\n",
              "    [theme=dark] .colab-df-convert {\n",
              "      background-color: #3B4455;\n",
              "      fill: #D2E3FC;\n",
              "    }\n",
              "\n",
              "    [theme=dark] .colab-df-convert:hover {\n",
              "      background-color: #434B5C;\n",
              "      box-shadow: 0px 1px 3px 1px rgba(0, 0, 0, 0.15);\n",
              "      filter: drop-shadow(0px 1px 2px rgba(0, 0, 0, 0.3));\n",
              "      fill: #FFFFFF;\n",
              "    }\n",
              "  </style>\n",
              "\n",
              "      <script>\n",
              "        const buttonEl =\n",
              "          document.querySelector('#df-14e57882-6e05-46a6-8b7c-819468565d31 button.colab-df-convert');\n",
              "        buttonEl.style.display =\n",
              "          google.colab.kernel.accessAllowed ? 'block' : 'none';\n",
              "\n",
              "        async function convertToInteractive(key) {\n",
              "          const element = document.querySelector('#df-14e57882-6e05-46a6-8b7c-819468565d31');\n",
              "          const dataTable =\n",
              "            await google.colab.kernel.invokeFunction('convertToInteractive',\n",
              "                                                     [key], {});\n",
              "          if (!dataTable) return;\n",
              "\n",
              "          const docLinkHtml = 'Like what you see? Visit the ' +\n",
              "            '<a target=\"_blank\" href=https://colab.research.google.com/notebooks/data_table.ipynb>data table notebook</a>'\n",
              "            + ' to learn more about interactive tables.';\n",
              "          element.innerHTML = '';\n",
              "          dataTable['output_type'] = 'display_data';\n",
              "          await google.colab.output.renderOutput(dataTable, element);\n",
              "          const docLink = document.createElement('div');\n",
              "          docLink.innerHTML = docLinkHtml;\n",
              "          element.appendChild(docLink);\n",
              "        }\n",
              "      </script>\n",
              "    </div>\n",
              "  </div>\n",
              "  "
            ]
          },
          "metadata": {},
          "execution_count": 2
        }
      ],
      "source": [
        "df = pd.read_csv(\"/content/train_data.csv\", index_col=0)\n",
        "df.head()"
      ]
    },
    {
      "cell_type": "markdown",
      "metadata": {
        "id": "z2-6wGiA-U3m"
      },
      "source": [
        "This data set includes:\n",
        "\n",
        "Contents:\n",
        "\n",
        "ID: Sequence - the numbers set for the sequence.\n",
        "\n",
        "Airline: Name of the airline operated by.\n",
        "\n",
        "Flight: Flight ID number.\n",
        "\n",
        "Source_city: From which city the flight originates.\n",
        "\n",
        "Departure_time: Flight departure time.\n",
        "\n",
        "Stop: Number of stops during the flight.\n",
        "\n",
        "Arrival_time: Return time.\n",
        "\n",
        "Destination_city: The country to which the flight is departing.\n",
        "\n",
        "Class: Which class type of aircraft the user flew using.\n",
        "\n",
        "Duration: Flight duration.\n",
        "\n",
        "Days_left: How long after the return of the plane"
      ]
    },
    {
      "cell_type": "markdown",
      "metadata": {
        "id": "ha2LzS_KJGA7"
      },
      "source": [
        "### check dataset content:"
      ]
    },
    {
      "cell_type": "code",
      "execution_count": 3,
      "metadata": {
        "colab": {
          "base_uri": "https://localhost:8080/"
        },
        "id": "JZTiT-aU9AjT",
        "outputId": "b69a0b4c-8dab-4bcf-ad6a-2ec7d9985696"
      },
      "outputs": [
        {
          "output_type": "stream",
          "name": "stdout",
          "text": [
            "<class 'pandas.core.frame.DataFrame'>\n",
            "Int64Index: 20000 entries, 1 to 20000\n",
            "Data columns (total 11 columns):\n",
            " #   Column            Non-Null Count  Dtype  \n",
            "---  ------            --------------  -----  \n",
            " 0   airline           20000 non-null  object \n",
            " 1   flight            20000 non-null  object \n",
            " 2   source_city       20000 non-null  object \n",
            " 3   departure_time    20000 non-null  object \n",
            " 4   stops             20000 non-null  object \n",
            " 5   arrival_time      20000 non-null  object \n",
            " 6   destination_city  20000 non-null  object \n",
            " 7   class             20000 non-null  object \n",
            " 8   duration          20000 non-null  float64\n",
            " 9   days_left         20000 non-null  int64  \n",
            " 10  price             20000 non-null  int64  \n",
            "dtypes: float64(1), int64(2), object(8)\n",
            "memory usage: 1.8+ MB\n"
          ]
        }
      ],
      "source": [
        "df.info()"
      ]
    },
    {
      "cell_type": "markdown",
      "metadata": {
        "id": "xYLQA50fKzEZ"
      },
      "source": [
        "### The number of columns divided into categories:"
      ]
    },
    {
      "cell_type": "code",
      "execution_count": 4,
      "metadata": {
        "colab": {
          "base_uri": "https://localhost:8080/"
        },
        "id": "_nOm1hxO99VH",
        "outputId": "1ce2530c-f12b-4bd7-dde3-2a97d840851c"
      },
      "outputs": [
        {
          "output_type": "stream",
          "name": "stdout",
          "text": [
            "Stops: \n",
            "\n",
            "one            16666\n",
            "zero            2440\n",
            "two_or_more      894\n",
            "Name: stops, dtype: int64\n",
            "\n",
            "Arrival time:\n",
            "\n",
            " Night            6142\n",
            "Evening          5316\n",
            "Morning          4086\n",
            "Afternoon        2536\n",
            "Early_Morning    1004\n",
            "Late_Night        916\n",
            "Name: arrival_time, dtype: int64\n",
            "\n",
            "AviaComp: \n",
            "\n",
            "Vistara      8535\n",
            "Air_India    5371\n",
            "Indigo       2924\n",
            "GO_FIRST     1508\n",
            "AirAsia      1056\n",
            "SpiceJet      606\n",
            "Name: airline, dtype: int64\n",
            "\n",
            "Which country is the flight to:\n",
            "\n",
            " Mumbai       3918\n",
            "Delhi        3825\n",
            "Bangalore    3425\n",
            "Kolkata      3323\n",
            "Hyderabad    2814\n",
            "Chennai      2695\n",
            "Name: destination_city, dtype: int64\n",
            "\n",
            "From which city does the flight start?: \n",
            "\n",
            " Mumbai       4068\n",
            "Delhi        4022\n",
            "Bangalore    3486\n",
            "Kolkata      3092\n",
            "Hyderabad    2748\n",
            "Chennai      2584\n",
            "Name: source_city, dtype: int64\n",
            "\n"
          ]
        }
      ],
      "source": [
        "print(f'Stops: \\n\\n{df.stops.value_counts()}\\n')\n",
        "print(f'Arrival time:\\n\\n {df.arrival_time.value_counts()}\\n')\n",
        "print(f\"AviaComp: \\n\\n{df.airline.value_counts()}\\n\")\n",
        "print(f\"Which country is the flight to:\\n\\n {df.destination_city.value_counts()}\\n\")\n",
        "print(f\"From which city does the flight start?: \\n\\n {df.source_city.value_counts()}\\n\")"
      ]
    },
    {
      "cell_type": "markdown",
      "metadata": {
        "id": "WS-W-42qpwHw"
      },
      "source": [
        "<div style=\"color:black;\n",
        "           display:fill;\n",
        "           border-radius:5px;\n",
        "           background-color:#00b3ff;\n",
        "           font-size:300%;\n",
        "           font-family:Verdana;   \n",
        "           letter-spacing:0.5px\">\n",
        "\n",
        "<p style=\"font-size:30px;text-align:left\">📈Visualization:</p>\n",
        "</div>"
      ]
    },
    {
      "cell_type": "code",
      "execution_count": 5,
      "metadata": {
        "colab": {
          "base_uri": "https://localhost:8080/",
          "height": 499
        },
        "id": "82538uqloblr",
        "outputId": "872d3554-067d-4e12-d137-40990929361e"
      },
      "outputs": [
        {
          "output_type": "display_data",
          "data": {
            "text/plain": [
              "<Figure size 1152x576 with 4 Axes>"
            ],
            "image/png": "[encoded data removed]"
          },
          "metadata": {
            "needs_background": "light"
          }
        }
      ],
      "source": [
        "fig, ax = plt.subplots(2,2, figsize=(16,8))\n",
        "\n",
        "\n",
        "sns.countplot(ax = ax[0,0], data=df, x='arrival_time')\n",
        "sns.countplot(ax = ax[0,1], data=df, x = 'source_city')\n",
        "sns.countplot(ax = ax[1,0], data=df, x = 'destination_city')\n",
        "sns.countplot(ax = ax[1,1], data=df, x = 'departure_time')\n",
        "\n",
        "plt.show()"
      ]
    },
    {
      "cell_type": "markdown",
      "metadata": {
        "id": "kk4EBkPJi_u6"
      },
      "source": [
        "`source_city`"
      ]
    },
    {
      "cell_type": "code",
      "execution_count": 6,
      "metadata": {
        "colab": {
          "base_uri": "https://localhost:8080/",
          "height": 248
        },
        "id": "_at0pXx5iJS-",
        "outputId": "262e737c-61fd-421b-fa42-a3f54081148e"
      },
      "outputs": [
        {
          "output_type": "display_data",
          "data": {
            "text/plain": [
              "<Figure size 432x288 with 1 Axes>"
            ],
            "image/png": "[encoded data removed]"
          },
          "metadata": {}
        }
      ],
      "source": [
        "list_sc=list(dict(df.source_city.value_counts()).keys())\n",
        "data_sc = list(df.source_city.value_counts())\n",
        "\n",
        "\n",
        "from pandas.core.arrays.interval import value_counts\n",
        "plt.pie(\n",
        "    data_sc,\n",
        "    labels = list_sc,\n",
        "    explode = [0, 0.02, 0.04, 0.06, 0.08, 0.1],\n",
        "    autopct='%.2f',\n",
        "    shadow = True)\n",
        "plt.show()"
      ]
    },
    {
      "cell_type": "markdown",
      "metadata": {
        "id": "peuTA23yjIjw"
      },
      "source": [
        "`airline`"
      ]
    },
    {
      "cell_type": "code",
      "execution_count": 7,
      "metadata": {
        "colab": {
          "base_uri": "https://localhost:8080/",
          "height": 248
        },
        "id": "qGrxRQtajRS2",
        "outputId": "d60cdbd2-0993-47e7-de60-cc1a06273cd8"
      },
      "outputs": [
        {
          "output_type": "display_data",
          "data": {
            "text/plain": [
              "<Figure size 432x288 with 1 Axes>"
            ],
            "image/png": "[encoded data removed]"
          },
          "metadata": {}
        }
      ],
      "source": [
        "list_al =list(dict(df.airline.value_counts()).keys())\n",
        "data_al = list(df.airline.value_counts())\n",
        "\n",
        "plt.pie(\n",
        "    data_al,\n",
        "    labels = list_al,\n",
        "    explode = [0, 0.02, 0.04, 0.06, 0.08, 0.1],\n",
        "    autopct='%.2f',\n",
        "    shadow = True)\n",
        "\n",
        "plt.show()"
      ]
    },
    {
      "cell_type": "markdown",
      "metadata": {
        "id": "WJaojjrhMIGd"
      },
      "source": [
        "📝Data cleaning:"
      ]
    },
    {
      "cell_type": "markdown",
      "metadata": {
        "id": "vfpOLfQWdyk5"
      },
      "source": [
        "### check column `price` ."
      ]
    },
    {
      "cell_type": "code",
      "execution_count": 8,
      "metadata": {
        "colab": {
          "base_uri": "https://localhost:8080/",
          "height": 388
        },
        "id": "_cFPyP7KdRk_",
        "outputId": "21f0f84a-cefb-4d21-8d25-6ad078e76eb7"
      },
      "outputs": [
        {
          "output_type": "display_data",
          "data": {
            "text/plain": [
              "<Figure size 720x432 with 1 Axes>"
            ],
            "image/png": "[encoded data removed]"
          },
          "metadata": {
            "needs_background": "light"
          }
        }
      ],
      "source": [
        "plt.figure(figsize=(10,6))\n",
        "plt.hist(df['price'], bins=50, histtype='bar')\n",
        "plt.xlabel('price')\n",
        "plt.grid()\n",
        "plt.show()"
      ]
    },
    {
      "cell_type": "markdown",
      "source": [
        "### Most prices are less than 80000. that's why we discard the lines that are bigger than 80000"
      ],
      "metadata": {
        "id": "dzPgg8_T0wIH"
      }
    },
    {
      "cell_type": "code",
      "execution_count": 9,
      "metadata": {
        "id": "aVFuEahmy5Q6"
      },
      "outputs": [],
      "source": [
        "df = df[df['price']<80000]"
      ]
    },
    {
      "cell_type": "code",
      "execution_count": 10,
      "metadata": {
        "colab": {
          "base_uri": "https://localhost:8080/",
          "height": 390
        },
        "id": "G2n0-kEZe5HD",
        "outputId": "5cf59ff2-ab42-41eb-d18a-01a28895dbbf"
      },
      "outputs": [
        {
          "output_type": "display_data",
          "data": {
            "text/plain": [
              "<Figure size 720x432 with 1 Axes>"
            ],
            "image/png": "[encoded data removed]"
          },
          "metadata": {
            "needs_background": "light"
          }
        }
      ],
      "source": [
        "plt.figure(figsize=(10,6))\n",
        "plt.hist(df['price'], bins=50, histtype='bar')\n",
        "plt.xlabel('price')\n",
        "plt.grid()\n",
        "plt.show()"
      ]
    },
    {
      "cell_type": "markdown",
      "metadata": {
        "id": "b3cCMahhjcfH"
      },
      "source": [
        "Update *indexes*:"
      ]
    },
    {
      "cell_type": "code",
      "execution_count": 12,
      "metadata": {
        "id": "ma5rjiK8jbZZ"
      },
      "outputs": [],
      "source": [
        "df.index = list(range(len(df)))"
      ]
    },
    {
      "cell_type": "markdown",
      "metadata": {
        "id": "4W-YBizzfAD9"
      },
      "source": [
        "## we split the dataset into two parts. to train and test set. For this we use `StratifiedShuffleSplit`"
      ]
    },
    {
      "cell_type": "code",
      "execution_count": 13,
      "metadata": {
        "id": "FaHf_aZje-TC"
      },
      "outputs": [],
      "source": [
        "df['price_cat'] = pd.cut(df['price'], bins = [0, 5000, 10000, 20000, 50000, 80000, np.inf], labels = [1, 2, 3, 4, 5, 6])\n",
        "\n",
        "from sklearn.model_selection import StratifiedShuffleSplit\n",
        "stratified_split = StratifiedShuffleSplit(n_splits=1, test_size=0.2, random_state=42)\n",
        "for train_index, test_index in stratified_split.split(df, df['price_cat']):\n",
        "    strat_train_set = df.loc[train_index]\n",
        "    strat_test_set = df.loc[test_index]\n",
        "\n",
        "strat_train_set.drop('price_cat', axis=1, inplace=True)\n",
        "strat_test_set.drop('price_cat', axis=1, inplace=True)"
      ]
    },
    {
      "cell_type": "code",
      "execution_count": 14,
      "metadata": {
        "id": "NjymNdEvkYkr"
      },
      "outputs": [],
      "source": [
        "df_train = strat_train_set.copy()\n",
        "df_test = strat_test_set.copy()"
      ]
    },
    {
      "cell_type": "markdown",
      "metadata": {
        "id": "mLIR50YlLBTH"
      },
      "source": [
        "### We can transfer the values of the text columns to numbers and check the correlation."
      ]
    },
    {
      "cell_type": "code",
      "execution_count": 15,
      "metadata": {
        "id": "9TRKako4aOBJ"
      },
      "outputs": [],
      "source": [
        "# obj columns\n",
        "df_train_cat = df_train[['airline','flight','source_city','departure_time','stops','arrival_time','destination_city','class']]\n",
        "# num columns\n",
        "df_train_num = df_train[['duration','days_left']] "
      ]
    },
    {
      "cell_type": "markdown",
      "metadata": {
        "id": "GATnU_87Ldq_"
      },
      "source": [
        "## OrdinalEncoder"
      ]
    },
    {
      "cell_type": "code",
      "execution_count": 16,
      "metadata": {
        "colab": {
          "base_uri": "https://localhost:8080/"
        },
        "id": "AtOlZP1OL25s",
        "outputId": "84015fbb-e78d-4e64-d39a-0fb7ba0bd0da"
      },
      "outputs": [
        {
          "output_type": "execute_result",
          "data": {
            "text/plain": [
              "array([[5.000e+00, 1.186e+03, 1.000e+00, ..., 5.000e+00, 5.000e+00,\n",
              "        0.000e+00],\n",
              "       [1.000e+00, 6.910e+02, 2.000e+00, ..., 0.000e+00, 4.000e+00,\n",
              "        1.000e+00],\n",
              "       [1.000e+00, 5.310e+02, 2.000e+00, ..., 2.000e+00, 4.000e+00,\n",
              "        1.000e+00],\n",
              "       ...,\n",
              "       [2.000e+00, 8.540e+02, 4.000e+00, ..., 2.000e+00, 2.000e+00,\n",
              "        1.000e+00],\n",
              "       [1.000e+00, 5.360e+02, 4.000e+00, ..., 2.000e+00, 3.000e+00,\n",
              "        0.000e+00],\n",
              "       [5.000e+00, 1.234e+03, 2.000e+00, ..., 1.000e+00, 0.000e+00,\n",
              "        0.000e+00]])"
            ]
          },
          "metadata": {},
          "execution_count": 16
        }
      ],
      "source": [
        "from sklearn.preprocessing import OrdinalEncoder\n",
        "cat_encoder = OrdinalEncoder()\n",
        "df_cat_encoded = cat_encoder.fit_transform(df_train_cat)\n",
        "df_cat_encoded"
      ]
    },
    {
      "cell_type": "markdown",
      "metadata": {
        "id": "O-yNWRZrvbAj"
      },
      "source": [
        "### We check the correlation by adding the columns `price`, `days_left`, `duration` to the same `df_cat`"
      ]
    },
    {
      "cell_type": "code",
      "execution_count": 17,
      "metadata": {
        "colab": {
          "base_uri": "https://localhost:8080/",
          "height": 206
        },
        "id": "0nQLRJ09c04H",
        "outputId": "cf84b83c-a0f5-4834-911e-278dc94bf539"
      },
      "outputs": [
        {
          "output_type": "execute_result",
          "data": {
            "text/plain": [
              "       airline  flight  source_city  departure_time  stops  arrival_time  \\\n",
              "3792       5.0  1186.0          1.0             4.0    0.0           5.0   \n",
              "14310      1.0   691.0          2.0             4.0    0.0           0.0   \n",
              "369        1.0   531.0          2.0             4.0    0.0           2.0   \n",
              "1397       1.0   566.0          2.0             4.0    0.0           5.0   \n",
              "2914       1.0   672.0          5.0             1.0    0.0           2.0   \n",
              "\n",
              "       destination_city  class  price  days_left  duration  \n",
              "3792                5.0    0.0  69713         43     11.25  \n",
              "14310               4.0    1.0   4559         24     27.58  \n",
              "369                 4.0    1.0  17641          9      7.00  \n",
              "1397                5.0    0.0  53164         43     11.33  \n",
              "2914                4.0    0.0  49725          7     11.17  "
            ],
            "text/html": [
              "\n",
              "  <div id=\"df-75c95ace-9c8d-44ae-8dbf-32fc58645075\">\n",
              "    <div class=\"colab-df-container\">\n",
              "      <div>\n",
              "<style scoped>\n",
              "    .dataframe tbody tr th:only-of-type {\n",
              "        vertical-align: middle;\n",
              "    }\n",
              "\n",
              "    .dataframe tbody tr th {\n",
              "        vertical-align: top;\n",
              "    }\n",
              "\n",
              "    .dataframe thead th {\n",
              "        text-align: right;\n",
              "    }\n",
              "</style>\n",
              "<table border=\"1\" class=\"dataframe\">\n",
              "  <thead>\n",
              "    <tr style=\"text-align: right;\">\n",
              "      <th></th>\n",
              "      <th>airline</th>\n",
              "      <th>flight</th>\n",
              "      <th>source_city</th>\n",
              "      <th>departure_time</th>\n",
              "      <th>stops</th>\n",
              "      <th>arrival_time</th>\n",
              "      <th>destination_city</th>\n",
              "      <th>class</th>\n",
              "      <th>price</th>\n",
              "      <th>days_left</th>\n",
              "      <th>duration</th>\n",
              "    </tr>\n",
              "  </thead>\n",
              "  <tbody>\n",
              "    <tr>\n",
              "      <th>3792</th>\n",
              "      <td>5.0</td>\n",
              "      <td>1186.0</td>\n",
              "      <td>1.0</td>\n",
              "      <td>4.0</td>\n",
              "      <td>0.0</td>\n",
              "      <td>5.0</td>\n",
              "      <td>5.0</td>\n",
              "      <td>0.0</td>\n",
              "      <td>69713</td>\n",
              "      <td>43</td>\n",
              "      <td>11.25</td>\n",
              "    </tr>\n",
              "    <tr>\n",
              "      <th>14310</th>\n",
              "      <td>1.0</td>\n",
              "      <td>691.0</td>\n",
              "      <td>2.0</td>\n",
              "      <td>4.0</td>\n",
              "      <td>0.0</td>\n",
              "      <td>0.0</td>\n",
              "      <td>4.0</td>\n",
              "      <td>1.0</td>\n",
              "      <td>4559</td>\n",
              "      <td>24</td>\n",
              "      <td>27.58</td>\n",
              "    </tr>\n",
              "    <tr>\n",
              "      <th>369</th>\n",
              "      <td>1.0</td>\n",
              "      <td>531.0</td>\n",
              "      <td>2.0</td>\n",
              "      <td>4.0</td>\n",
              "      <td>0.0</td>\n",
              "      <td>2.0</td>\n",
              "      <td>4.0</td>\n",
              "      <td>1.0</td>\n",
              "      <td>17641</td>\n",
              "      <td>9</td>\n",
              "      <td>7.00</td>\n",
              "    </tr>\n",
              "    <tr>\n",
              "      <th>1397</th>\n",
              "      <td>1.0</td>\n",
              "      <td>566.0</td>\n",
              "      <td>2.0</td>\n",
              "      <td>4.0</td>\n",
              "      <td>0.0</td>\n",
              "      <td>5.0</td>\n",
              "      <td>5.0</td>\n",
              "      <td>0.0</td>\n",
              "      <td>53164</td>\n",
              "      <td>43</td>\n",
              "      <td>11.33</td>\n",
              "    </tr>\n",
              "    <tr>\n",
              "      <th>2914</th>\n",
              "      <td>1.0</td>\n",
              "      <td>672.0</td>\n",
              "      <td>5.0</td>\n",
              "      <td>1.0</td>\n",
              "      <td>0.0</td>\n",
              "      <td>2.0</td>\n",
              "      <td>4.0</td>\n",
              "      <td>0.0</td>\n",
              "      <td>49725</td>\n",
              "      <td>7</td>\n",
              "      <td>11.17</td>\n",
              "    </tr>\n",
              "  </tbody>\n",
              "</table>\n",
              "</div>\n",
              "      <button class=\"colab-df-convert\" onclick=\"convertToInteractive('df-75c95ace-9c8d-44ae-8dbf-32fc58645075')\"\n",
              "              title=\"Convert this dataframe to an interactive table.\"\n",
              "              style=\"display:none;\">\n",
              "        \n",
              "  <svg xmlns=\"http://www.w3.org/2000/svg\" height=\"24px\"viewBox=\"0 0 24 24\"\n",
              "       width=\"24px\">\n",
              "    <path d=\"M0 0h24v24H0V0z\" fill=\"none\"/>\n",
              "    <path d=\"M18.56 5.44l.94 2.06.94-2.06 2.06-.94-2.06-.94-.94-2.06-.94 2.06-2.06.94zm-11 1L8.5 8.5l.94-2.06 2.06-.94-2.06-.94L8.5 2.5l-.94 2.06-2.06.94zm10 10l.94 2.06.94-2.06 2.06-.94-2.06-.94-.94-2.06-.94 2.06-2.06.94z\"/><path d=\"M17.41 7.96l-1.37-1.37c-.4-.4-.92-.59-1.43-.59-.52 0-1.04.2-1.43.59L10.3 9.45l-7.72 7.72c-.78.78-.78 2.05 0 2.83L4 21.41c.39.39.9.59 1.41.59.51 0 1.02-.2 1.41-.59l7.78-7.78 2.81-2.81c.8-.78.8-2.07 0-2.86zM5.41 20L4 18.59l7.72-7.72 1.47 1.35L5.41 20z\"/>\n",
              "  </svg>\n",
              "      </button>\n",
              "      \n",
              "  <style>\n",
              "    .colab-df-container {\n",
              "      display:flex;\n",
              "      flex-wrap:wrap;\n",
              "      gap: 12px;\n",
              "    }\n",
              "\n",
              "    .colab-df-convert {\n",
              "      background-color: #E8F0FE;\n",
              "      border: none;\n",
              "      border-radius: 50%;\n",
              "      cursor: pointer;\n",
              "      display: none;\n",
              "      fill: #1967D2;\n",
              "      height: 32px;\n",
              "      padding: 0 0 0 0;\n",
              "      width: 32px;\n",
              "    }\n",
              "\n",
              "    .colab-df-convert:hover {\n",
              "      background-color: #E2EBFA;\n",
              "      box-shadow: 0px 1px 2px rgba(60, 64, 67, 0.3), 0px 1px 3px 1px rgba(60, 64, 67, 0.15);\n",
              "      fill: #174EA6;\n",
              "    }\n",
              "\n",
              "    [theme=dark] .colab-df-convert {\n",
              "      background-color: #3B4455;\n",
              "      fill: #D2E3FC;\n",
              "    }\n",
              "\n",
              "    [theme=dark] .colab-df-convert:hover {\n",
              "      background-color: #434B5C;\n",
              "      box-shadow: 0px 1px 3px 1px rgba(0, 0, 0, 0.15);\n",
              "      filter: drop-shadow(0px 1px 2px rgba(0, 0, 0, 0.3));\n",
              "      fill: #FFFFFF;\n",
              "    }\n",
              "  </style>\n",
              "\n",
              "      <script>\n",
              "        const buttonEl =\n",
              "          document.querySelector('#df-75c95ace-9c8d-44ae-8dbf-32fc58645075 button.colab-df-convert');\n",
              "        buttonEl.style.display =\n",
              "          google.colab.kernel.accessAllowed ? 'block' : 'none';\n",
              "\n",
              "        async function convertToInteractive(key) {\n",
              "          const element = document.querySelector('#df-75c95ace-9c8d-44ae-8dbf-32fc58645075');\n",
              "          const dataTable =\n",
              "            await google.colab.kernel.invokeFunction('convertToInteractive',\n",
              "                                                     [key], {});\n",
              "          if (!dataTable) return;\n",
              "\n",
              "          const docLinkHtml = 'Like what you see? Visit the ' +\n",
              "            '<a target=\"_blank\" href=https://colab.research.google.com/notebooks/data_table.ipynb>data table notebook</a>'\n",
              "            + ' to learn more about interactive tables.';\n",
              "          element.innerHTML = '';\n",
              "          dataTable['output_type'] = 'display_data';\n",
              "          await google.colab.output.renderOutput(dataTable, element);\n",
              "          const docLink = document.createElement('div');\n",
              "          docLink.innerHTML = docLinkHtml;\n",
              "          element.appendChild(docLink);\n",
              "        }\n",
              "      </script>\n",
              "    </div>\n",
              "  </div>\n",
              "  "
            ]
          },
          "metadata": {},
          "execution_count": 17
        }
      ],
      "source": [
        "df_cat = pd.DataFrame(df_cat_encoded,columns = df_train_cat.columns, index = df_train_cat.index)\n",
        "df_cat['price'] = df_train['price']\n",
        "df_cat['days_left'] = df_train['days_left']\n",
        "df_cat['duration'] = df_train['duration']\n",
        "df_cat.head()"
      ]
    },
    {
      "cell_type": "code",
      "execution_count": 18,
      "metadata": {
        "colab": {
          "base_uri": "https://localhost:8080/"
        },
        "id": "wMAehMKyDktq",
        "outputId": "e8d0bb64-7c83-4fc9-f06c-b2c3ea315d27"
      },
      "outputs": [
        {
          "output_type": "execute_result",
          "data": {
            "text/plain": [
              "price               1.000000\n",
              "flight              0.291334\n",
              "airline             0.226475\n",
              "duration            0.215972\n",
              "departure_time      0.059233\n",
              "arrival_time        0.042076\n",
              "source_city         0.008464\n",
              "destination_city    0.006042\n",
              "days_left          -0.091782\n",
              "stops              -0.201906\n",
              "class              -0.942021\n",
              "dtype: float64"
            ]
          },
          "metadata": {},
          "execution_count": 18
        }
      ],
      "source": [
        "df_cat.corrwith(df_cat['price']).sort_values(ascending=False)"
      ]
    },
    {
      "cell_type": "code",
      "execution_count": 25,
      "metadata": {
        "colab": {
          "base_uri": "https://localhost:8080/",
          "height": 394
        },
        "id": "WYQ01IEzwEnB",
        "outputId": "5324c23e-0f70-480b-f8c2-889b56433621"
      },
      "outputs": [
        {
          "output_type": "execute_result",
          "data": {
            "text/plain": [
              "<pandas.io.formats.style.Styler at 0x7fe2f697dcd0>"
            ],
            "text/html": [
              "<style type=\"text/css\">\n",
              "#T_fcb6d_row0_col0, #T_fcb6d_row1_col1, #T_fcb6d_row2_col2, #T_fcb6d_row3_col3, #T_fcb6d_row4_col4, #T_fcb6d_row5_col5, #T_fcb6d_row6_col6, #T_fcb6d_row7_col7, #T_fcb6d_row8_col8, #T_fcb6d_row9_col9, #T_fcb6d_row10_col10 {\n",
              "  background-color: #800000;\n",
              "  color: #f1f1f1;\n",
              "}\n",
              "#T_fcb6d_row0_col1 {\n",
              "  background-color: #ff7171;\n",
              "  color: #f1f1f1;\n",
              "}\n",
              "#T_fcb6d_row0_col2, #T_fcb6d_row0_col9, #T_fcb6d_row4_col9, #T_fcb6d_row5_col0, #T_fcb6d_row9_col4 {\n",
              "  background-color: #00005a;\n",
              "  color: #f1f1f1;\n",
              "}\n",
              "#T_fcb6d_row0_col3 {\n",
              "  background-color: #00006b;\n",
              "  color: #f1f1f1;\n",
              "}\n",
              "#T_fcb6d_row0_col4, #T_fcb6d_row5_col6, #T_fcb6d_row6_col0, #T_fcb6d_row6_col5 {\n",
              "  background-color: #00005d;\n",
              "  color: #f1f1f1;\n",
              "}\n",
              "#T_fcb6d_row0_col5, #T_fcb6d_row5_col3, #T_fcb6d_row5_col7, #T_fcb6d_row7_col5 {\n",
              "  background-color: #000060;\n",
              "  color: #f1f1f1;\n",
              "}\n",
              "#T_fcb6d_row0_col6, #T_fcb6d_row2_col5, #T_fcb6d_row3_col5, #T_fcb6d_row5_col2 {\n",
              "  background-color: #000063;\n",
              "  color: #f1f1f1;\n",
              "}\n",
              "#T_fcb6d_row0_col7 {\n",
              "  background-color: #0000bf;\n",
              "  color: #f1f1f1;\n",
              "}\n",
              "#T_fcb6d_row0_col8 {\n",
              "  background-color: #0000e9;\n",
              "  color: #f1f1f1;\n",
              "}\n",
              "#T_fcb6d_row0_col10, #T_fcb6d_row2_col3, #T_fcb6d_row3_col6, #T_fcb6d_row3_col9, #T_fcb6d_row5_col10, #T_fcb6d_row7_col2, #T_fcb6d_row8_col2, #T_fcb6d_row8_col6, #T_fcb6d_row10_col6 {\n",
              "  background-color: #00004f;\n",
              "  color: #f1f1f1;\n",
              "}\n",
              "#T_fcb6d_row1_col0 {\n",
              "  background-color: #ff7575;\n",
              "  color: #f1f1f1;\n",
              "}\n",
              "#T_fcb6d_row1_col2, #T_fcb6d_row2_col0, #T_fcb6d_row2_col1, #T_fcb6d_row3_col2, #T_fcb6d_row3_col4, #T_fcb6d_row6_col9, #T_fcb6d_row7_col9, #T_fcb6d_row9_col6, #T_fcb6d_row9_col7, #T_fcb6d_row9_col10, #T_fcb6d_row10_col5 {\n",
              "  background-color: #000055;\n",
              "  color: #f1f1f1;\n",
              "}\n",
              "#T_fcb6d_row1_col3, #T_fcb6d_row3_col7 {\n",
              "  background-color: #000074;\n",
              "  color: #f1f1f1;\n",
              "}\n",
              "#T_fcb6d_row1_col4, #T_fcb6d_row4_col1 {\n",
              "  background-color: #00009b;\n",
              "  color: #f1f1f1;\n",
              "}\n",
              "#T_fcb6d_row1_col5, #T_fcb6d_row3_col1, #T_fcb6d_row5_col1 {\n",
              "  background-color: #000079;\n",
              "  color: #f1f1f1;\n",
              "}\n",
              "#T_fcb6d_row1_col6, #T_fcb6d_row5_col8, #T_fcb6d_row6_col1 {\n",
              "  background-color: #000066;\n",
              "  color: #f1f1f1;\n",
              "}\n",
              "#T_fcb6d_row1_col7, #T_fcb6d_row7_col1 {\n",
              "  background-color: #0000fa;\n",
              "  color: #f1f1f1;\n",
              "}\n",
              "#T_fcb6d_row1_col8 {\n",
              "  background-color: #2525ff;\n",
              "  color: #f1f1f1;\n",
              "}\n",
              "#T_fcb6d_row1_col9, #T_fcb6d_row2_col4, #T_fcb6d_row2_col7, #T_fcb6d_row2_col8, #T_fcb6d_row2_col9, #T_fcb6d_row2_col10, #T_fcb6d_row4_col2, #T_fcb6d_row4_col5, #T_fcb6d_row5_col4, #T_fcb6d_row5_col9, #T_fcb6d_row6_col3, #T_fcb6d_row6_col7, #T_fcb6d_row6_col8, #T_fcb6d_row6_col10, #T_fcb6d_row7_col6, #T_fcb6d_row9_col1, #T_fcb6d_row9_col2, #T_fcb6d_row9_col3, #T_fcb6d_row9_col5, #T_fcb6d_row10_col0 {\n",
              "  background-color: #00004c;\n",
              "  color: #f1f1f1;\n",
              "}\n",
              "#T_fcb6d_row1_col10 {\n",
              "  background-color: #0000d6;\n",
              "  color: #f1f1f1;\n",
              "}\n",
              "#T_fcb6d_row2_col6, #T_fcb6d_row6_col2 {\n",
              "  background-color: #0000f2;\n",
              "  color: #f1f1f1;\n",
              "}\n",
              "#T_fcb6d_row3_col0, #T_fcb6d_row8_col5 {\n",
              "  background-color: #000068;\n",
              "  color: #f1f1f1;\n",
              "}\n",
              "#T_fcb6d_row3_col8, #T_fcb6d_row8_col3 {\n",
              "  background-color: #000071;\n",
              "  color: #f1f1f1;\n",
              "}\n",
              "#T_fcb6d_row3_col10, #T_fcb6d_row10_col3 {\n",
              "  background-color: #000087;\n",
              "  color: #f1f1f1;\n",
              "}\n",
              "#T_fcb6d_row4_col0, #T_fcb6d_row10_col9 {\n",
              "  background-color: #000058;\n",
              "  color: #f1f1f1;\n",
              "}\n",
              "#T_fcb6d_row4_col3, #T_fcb6d_row4_col6, #T_fcb6d_row6_col4, #T_fcb6d_row9_col0, #T_fcb6d_row10_col2 {\n",
              "  background-color: #000052;\n",
              "  color: #f1f1f1;\n",
              "}\n",
              "#T_fcb6d_row4_col7, #T_fcb6d_row7_col4, #T_fcb6d_row8_col9 {\n",
              "  background-color: #00008d;\n",
              "  color: #f1f1f1;\n",
              "}\n",
              "#T_fcb6d_row4_col8, #T_fcb6d_row10_col1 {\n",
              "  background-color: #0000d8;\n",
              "  color: #f1f1f1;\n",
              "}\n",
              "#T_fcb6d_row4_col10 {\n",
              "  background-color: #e9e9ff;\n",
              "  color: #000000;\n",
              "}\n",
              "#T_fcb6d_row7_col0 {\n",
              "  background-color: #0000ba;\n",
              "  color: #f1f1f1;\n",
              "}\n",
              "#T_fcb6d_row7_col3 {\n",
              "  background-color: #00006e;\n",
              "  color: #f1f1f1;\n",
              "}\n",
              "#T_fcb6d_row7_col8, #T_fcb6d_row8_col7 {\n",
              "  background-color: #9c0000;\n",
              "  color: #f1f1f1;\n",
              "}\n",
              "#T_fcb6d_row7_col10 {\n",
              "  background-color: #0000ae;\n",
              "  color: #f1f1f1;\n",
              "}\n",
              "#T_fcb6d_row8_col0 {\n",
              "  background-color: #0000e6;\n",
              "  color: #f1f1f1;\n",
              "}\n",
              "#T_fcb6d_row8_col1 {\n",
              "  background-color: #2929ff;\n",
              "  color: #f1f1f1;\n",
              "}\n",
              "#T_fcb6d_row8_col4 {\n",
              "  background-color: #0000db;\n",
              "  color: #f1f1f1;\n",
              "}\n",
              "#T_fcb6d_row8_col10 {\n",
              "  background-color: #0000e1;\n",
              "  color: #f1f1f1;\n",
              "}\n",
              "#T_fcb6d_row9_col8 {\n",
              "  background-color: #00008a;\n",
              "  color: #f1f1f1;\n",
              "}\n",
              "#T_fcb6d_row10_col4 {\n",
              "  background-color: #ededff;\n",
              "  color: #000000;\n",
              "}\n",
              "#T_fcb6d_row10_col7 {\n",
              "  background-color: #0000b1;\n",
              "  color: #f1f1f1;\n",
              "}\n",
              "#T_fcb6d_row10_col8 {\n",
              "  background-color: #0000e4;\n",
              "  color: #f1f1f1;\n",
              "}\n",
              "</style>\n",
              "<table id=\"T_fcb6d_\" class=\"dataframe\">\n",
              "  <thead>\n",
              "    <tr>\n",
              "      <th class=\"blank level0\" >&nbsp;</th>\n",
              "      <th class=\"col_heading level0 col0\" >airline</th>\n",
              "      <th class=\"col_heading level0 col1\" >flight</th>\n",
              "      <th class=\"col_heading level0 col2\" >source_city</th>\n",
              "      <th class=\"col_heading level0 col3\" >departure_time</th>\n",
              "      <th class=\"col_heading level0 col4\" >stops</th>\n",
              "      <th class=\"col_heading level0 col5\" >arrival_time</th>\n",
              "      <th class=\"col_heading level0 col6\" >destination_city</th>\n",
              "      <th class=\"col_heading level0 col7\" >class</th>\n",
              "      <th class=\"col_heading level0 col8\" >price</th>\n",
              "      <th class=\"col_heading level0 col9\" >days_left</th>\n",
              "      <th class=\"col_heading level0 col10\" >duration</th>\n",
              "    </tr>\n",
              "  </thead>\n",
              "  <tbody>\n",
              "    <tr>\n",
              "      <th id=\"T_fcb6d_level0_row0\" class=\"row_heading level0 row0\" >airline</th>\n",
              "      <td id=\"T_fcb6d_row0_col0\" class=\"data row0 col0\" >1.000000</td>\n",
              "      <td id=\"T_fcb6d_row0_col1\" class=\"data row0 col1\" >0.639660</td>\n",
              "      <td id=\"T_fcb6d_row0_col2\" class=\"data row0 col2\" >0.023320</td>\n",
              "      <td id=\"T_fcb6d_row0_col3\" class=\"data row0 col3\" >0.053067</td>\n",
              "      <td id=\"T_fcb6d_row0_col4\" class=\"data row0 col4\" >0.027900</td>\n",
              "      <td id=\"T_fcb6d_row0_col5\" class=\"data row0 col5\" >0.030755</td>\n",
              "      <td id=\"T_fcb6d_row0_col6\" class=\"data row0 col6\" >0.037068</td>\n",
              "      <td id=\"T_fcb6d_row0_col7\" class=\"data row0 col7\" >0.162699</td>\n",
              "      <td id=\"T_fcb6d_row0_col8\" class=\"data row0 col8\" >0.226475</td>\n",
              "      <td id=\"T_fcb6d_row0_col9\" class=\"data row0 col9\" >0.022624</td>\n",
              "      <td id=\"T_fcb6d_row0_col10\" class=\"data row0 col10\" >0.011130</td>\n",
              "    </tr>\n",
              "    <tr>\n",
              "      <th id=\"T_fcb6d_level0_row1\" class=\"row_heading level0 row1\" >flight</th>\n",
              "      <td id=\"T_fcb6d_row1_col0\" class=\"data row1 col0\" >0.639660</td>\n",
              "      <td id=\"T_fcb6d_row1_col1\" class=\"data row1 col1\" >1.000000</td>\n",
              "      <td id=\"T_fcb6d_row1_col2\" class=\"data row1 col2\" >0.013321</td>\n",
              "      <td id=\"T_fcb6d_row1_col3\" class=\"data row1 col3\" >0.065870</td>\n",
              "      <td id=\"T_fcb6d_row1_col4\" class=\"data row1 col4\" >0.112804</td>\n",
              "      <td id=\"T_fcb6d_row1_col5\" class=\"data row1 col5\" >0.064710</td>\n",
              "      <td id=\"T_fcb6d_row1_col6\" class=\"data row1 col6\" >0.037579</td>\n",
              "      <td id=\"T_fcb6d_row1_col7\" class=\"data row1 col7\" >0.244361</td>\n",
              "      <td id=\"T_fcb6d_row1_col8\" class=\"data row1 col8\" >0.291334</td>\n",
              "      <td id=\"T_fcb6d_row1_col9\" class=\"data row1 col9\" >0.001512</td>\n",
              "      <td id=\"T_fcb6d_row1_col10\" class=\"data row1 col10\" >0.197053</td>\n",
              "    </tr>\n",
              "    <tr>\n",
              "      <th id=\"T_fcb6d_level0_row2\" class=\"row_heading level0 row2\" >source_city</th>\n",
              "      <td id=\"T_fcb6d_row2_col0\" class=\"data row2 col0\" >0.023320</td>\n",
              "      <td id=\"T_fcb6d_row2_col1\" class=\"data row2 col1\" >0.013321</td>\n",
              "      <td id=\"T_fcb6d_row2_col2\" class=\"data row2 col2\" >1.000000</td>\n",
              "      <td id=\"T_fcb6d_row2_col3\" class=\"data row2 col3\" >0.013545</td>\n",
              "      <td id=\"T_fcb6d_row2_col4\" class=\"data row2 col4\" >0.002085</td>\n",
              "      <td id=\"T_fcb6d_row2_col5\" class=\"data row2 col5\" >0.036516</td>\n",
              "      <td id=\"T_fcb6d_row2_col6\" class=\"data row2 col6\" >0.234042</td>\n",
              "      <td id=\"T_fcb6d_row2_col7\" class=\"data row2 col7\" >0.005826</td>\n",
              "      <td id=\"T_fcb6d_row2_col8\" class=\"data row2 col8\" >0.008464</td>\n",
              "      <td id=\"T_fcb6d_row2_col9\" class=\"data row2 col9\" >0.001436</td>\n",
              "      <td id=\"T_fcb6d_row2_col10\" class=\"data row2 col10\" >0.010330</td>\n",
              "    </tr>\n",
              "    <tr>\n",
              "      <th id=\"T_fcb6d_level0_row3\" class=\"row_heading level0 row3\" >departure_time</th>\n",
              "      <td id=\"T_fcb6d_row3_col0\" class=\"data row3 col0\" >0.053067</td>\n",
              "      <td id=\"T_fcb6d_row3_col1\" class=\"data row3 col1\" >0.065870</td>\n",
              "      <td id=\"T_fcb6d_row3_col2\" class=\"data row3 col2\" >0.013545</td>\n",
              "      <td id=\"T_fcb6d_row3_col3\" class=\"data row3 col3\" >1.000000</td>\n",
              "      <td id=\"T_fcb6d_row3_col4\" class=\"data row3 col4\" >0.017414</td>\n",
              "      <td id=\"T_fcb6d_row3_col5\" class=\"data row3 col5\" >0.035813</td>\n",
              "      <td id=\"T_fcb6d_row3_col6\" class=\"data row3 col6\" >0.008150</td>\n",
              "      <td id=\"T_fcb6d_row3_col7\" class=\"data row3 col7\" >0.057898</td>\n",
              "      <td id=\"T_fcb6d_row3_col8\" class=\"data row3 col8\" >0.059233</td>\n",
              "      <td id=\"T_fcb6d_row3_col9\" class=\"data row3 col9\" >0.008358</td>\n",
              "      <td id=\"T_fcb6d_row3_col10\" class=\"data row3 col10\" >0.090829</td>\n",
              "    </tr>\n",
              "    <tr>\n",
              "      <th id=\"T_fcb6d_level0_row4\" class=\"row_heading level0 row4\" >stops</th>\n",
              "      <td id=\"T_fcb6d_row4_col0\" class=\"data row4 col0\" >0.027900</td>\n",
              "      <td id=\"T_fcb6d_row4_col1\" class=\"data row4 col1\" >0.112804</td>\n",
              "      <td id=\"T_fcb6d_row4_col2\" class=\"data row4 col2\" >0.002085</td>\n",
              "      <td id=\"T_fcb6d_row4_col3\" class=\"data row4 col3\" >0.017414</td>\n",
              "      <td id=\"T_fcb6d_row4_col4\" class=\"data row4 col4\" >1.000000</td>\n",
              "      <td id=\"T_fcb6d_row4_col5\" class=\"data row4 col5\" >0.005930</td>\n",
              "      <td id=\"T_fcb6d_row4_col6\" class=\"data row4 col6\" >0.010782</td>\n",
              "      <td id=\"T_fcb6d_row4_col7\" class=\"data row4 col7\" >0.092243</td>\n",
              "      <td id=\"T_fcb6d_row4_col8\" class=\"data row4 col8\" >0.201906</td>\n",
              "      <td id=\"T_fcb6d_row4_col9\" class=\"data row4 col9\" >0.024714</td>\n",
              "      <td id=\"T_fcb6d_row4_col10\" class=\"data row4 col10\" >0.482574</td>\n",
              "    </tr>\n",
              "    <tr>\n",
              "      <th id=\"T_fcb6d_level0_row5\" class=\"row_heading level0 row5\" >arrival_time</th>\n",
              "      <td id=\"T_fcb6d_row5_col0\" class=\"data row5 col0\" >0.030755</td>\n",
              "      <td id=\"T_fcb6d_row5_col1\" class=\"data row5 col1\" >0.064710</td>\n",
              "      <td id=\"T_fcb6d_row5_col2\" class=\"data row5 col2\" >0.036516</td>\n",
              "      <td id=\"T_fcb6d_row5_col3\" class=\"data row5 col3\" >0.035813</td>\n",
              "      <td id=\"T_fcb6d_row5_col4\" class=\"data row5 col4\" >0.005930</td>\n",
              "      <td id=\"T_fcb6d_row5_col5\" class=\"data row5 col5\" >1.000000</td>\n",
              "      <td id=\"T_fcb6d_row5_col6\" class=\"data row5 col6\" >0.026371</td>\n",
              "      <td id=\"T_fcb6d_row5_col7\" class=\"data row5 col7\" >0.032210</td>\n",
              "      <td id=\"T_fcb6d_row5_col8\" class=\"data row5 col8\" >0.042076</td>\n",
              "      <td id=\"T_fcb6d_row5_col9\" class=\"data row5 col9\" >0.002032</td>\n",
              "      <td id=\"T_fcb6d_row5_col10\" class=\"data row5 col10\" >0.014237</td>\n",
              "    </tr>\n",
              "    <tr>\n",
              "      <th id=\"T_fcb6d_level0_row6\" class=\"row_heading level0 row6\" >destination_city</th>\n",
              "      <td id=\"T_fcb6d_row6_col0\" class=\"data row6 col0\" >0.037068</td>\n",
              "      <td id=\"T_fcb6d_row6_col1\" class=\"data row6 col1\" >0.037579</td>\n",
              "      <td id=\"T_fcb6d_row6_col2\" class=\"data row6 col2\" >0.234042</td>\n",
              "      <td id=\"T_fcb6d_row6_col3\" class=\"data row6 col3\" >0.008150</td>\n",
              "      <td id=\"T_fcb6d_row6_col4\" class=\"data row6 col4\" >0.010782</td>\n",
              "      <td id=\"T_fcb6d_row6_col5\" class=\"data row6 col5\" >0.026371</td>\n",
              "      <td id=\"T_fcb6d_row6_col6\" class=\"data row6 col6\" >1.000000</td>\n",
              "      <td id=\"T_fcb6d_row6_col7\" class=\"data row6 col7\" >0.002138</td>\n",
              "      <td id=\"T_fcb6d_row6_col8\" class=\"data row6 col8\" >0.006042</td>\n",
              "      <td id=\"T_fcb6d_row6_col9\" class=\"data row6 col9\" >0.013927</td>\n",
              "      <td id=\"T_fcb6d_row6_col10\" class=\"data row6 col10\" >0.006742</td>\n",
              "    </tr>\n",
              "    <tr>\n",
              "      <th id=\"T_fcb6d_level0_row7\" class=\"row_heading level0 row7\" >class</th>\n",
              "      <td id=\"T_fcb6d_row7_col0\" class=\"data row7 col0\" >0.162699</td>\n",
              "      <td id=\"T_fcb6d_row7_col1\" class=\"data row7 col1\" >0.244361</td>\n",
              "      <td id=\"T_fcb6d_row7_col2\" class=\"data row7 col2\" >0.005826</td>\n",
              "      <td id=\"T_fcb6d_row7_col3\" class=\"data row7 col3\" >0.057898</td>\n",
              "      <td id=\"T_fcb6d_row7_col4\" class=\"data row7 col4\" >0.092243</td>\n",
              "      <td id=\"T_fcb6d_row7_col5\" class=\"data row7 col5\" >0.032210</td>\n",
              "      <td id=\"T_fcb6d_row7_col6\" class=\"data row7 col6\" >0.002138</td>\n",
              "      <td id=\"T_fcb6d_row7_col7\" class=\"data row7 col7\" >1.000000</td>\n",
              "      <td id=\"T_fcb6d_row7_col8\" class=\"data row7 col8\" >0.942021</td>\n",
              "      <td id=\"T_fcb6d_row7_col9\" class=\"data row7 col9\" >0.014580</td>\n",
              "      <td id=\"T_fcb6d_row7_col10\" class=\"data row7 col10\" >0.142789</td>\n",
              "    </tr>\n",
              "    <tr>\n",
              "      <th id=\"T_fcb6d_level0_row8\" class=\"row_heading level0 row8\" >price</th>\n",
              "      <td id=\"T_fcb6d_row8_col0\" class=\"data row8 col0\" >0.226475</td>\n",
              "      <td id=\"T_fcb6d_row8_col1\" class=\"data row8 col1\" >0.291334</td>\n",
              "      <td id=\"T_fcb6d_row8_col2\" class=\"data row8 col2\" >0.008464</td>\n",
              "      <td id=\"T_fcb6d_row8_col3\" class=\"data row8 col3\" >0.059233</td>\n",
              "      <td id=\"T_fcb6d_row8_col4\" class=\"data row8 col4\" >0.201906</td>\n",
              "      <td id=\"T_fcb6d_row8_col5\" class=\"data row8 col5\" >0.042076</td>\n",
              "      <td id=\"T_fcb6d_row8_col6\" class=\"data row8 col6\" >0.006042</td>\n",
              "      <td id=\"T_fcb6d_row8_col7\" class=\"data row8 col7\" >0.942021</td>\n",
              "      <td id=\"T_fcb6d_row8_col8\" class=\"data row8 col8\" >1.000000</td>\n",
              "      <td id=\"T_fcb6d_row8_col9\" class=\"data row8 col9\" >0.091782</td>\n",
              "      <td id=\"T_fcb6d_row8_col10\" class=\"data row8 col10\" >0.215972</td>\n",
              "    </tr>\n",
              "    <tr>\n",
              "      <th id=\"T_fcb6d_level0_row9\" class=\"row_heading level0 row9\" >days_left</th>\n",
              "      <td id=\"T_fcb6d_row9_col0\" class=\"data row9 col0\" >0.022624</td>\n",
              "      <td id=\"T_fcb6d_row9_col1\" class=\"data row9 col1\" >0.001512</td>\n",
              "      <td id=\"T_fcb6d_row9_col2\" class=\"data row9 col2\" >0.001436</td>\n",
              "      <td id=\"T_fcb6d_row9_col3\" class=\"data row9 col3\" >0.008358</td>\n",
              "      <td id=\"T_fcb6d_row9_col4\" class=\"data row9 col4\" >0.024714</td>\n",
              "      <td id=\"T_fcb6d_row9_col5\" class=\"data row9 col5\" >0.002032</td>\n",
              "      <td id=\"T_fcb6d_row9_col6\" class=\"data row9 col6\" >0.013927</td>\n",
              "      <td id=\"T_fcb6d_row9_col7\" class=\"data row9 col7\" >0.014580</td>\n",
              "      <td id=\"T_fcb6d_row9_col8\" class=\"data row9 col8\" >0.091782</td>\n",
              "      <td id=\"T_fcb6d_row9_col9\" class=\"data row9 col9\" >1.000000</td>\n",
              "      <td id=\"T_fcb6d_row9_col10\" class=\"data row9 col10\" >0.020173</td>\n",
              "    </tr>\n",
              "    <tr>\n",
              "      <th id=\"T_fcb6d_level0_row10\" class=\"row_heading level0 row10\" >duration</th>\n",
              "      <td id=\"T_fcb6d_row10_col0\" class=\"data row10 col0\" >0.011130</td>\n",
              "      <td id=\"T_fcb6d_row10_col1\" class=\"data row10 col1\" >0.197053</td>\n",
              "      <td id=\"T_fcb6d_row10_col2\" class=\"data row10 col2\" >0.010330</td>\n",
              "      <td id=\"T_fcb6d_row10_col3\" class=\"data row10 col3\" >0.090829</td>\n",
              "      <td id=\"T_fcb6d_row10_col4\" class=\"data row10 col4\" >0.482574</td>\n",
              "      <td id=\"T_fcb6d_row10_col5\" class=\"data row10 col5\" >0.014237</td>\n",
              "      <td id=\"T_fcb6d_row10_col6\" class=\"data row10 col6\" >0.006742</td>\n",
              "      <td id=\"T_fcb6d_row10_col7\" class=\"data row10 col7\" >0.142789</td>\n",
              "      <td id=\"T_fcb6d_row10_col8\" class=\"data row10 col8\" >0.215972</td>\n",
              "      <td id=\"T_fcb6d_row10_col9\" class=\"data row10 col9\" >0.020173</td>\n",
              "      <td id=\"T_fcb6d_row10_col10\" class=\"data row10 col10\" >1.000000</td>\n",
              "    </tr>\n",
              "  </tbody>\n",
              "</table>\n"
            ]
          },
          "metadata": {},
          "execution_count": 25
        }
      ],
      "source": [
        "corr_matrix = df_cat.corr().abs()\n",
        "corr_matrix.style.background_gradient(cmap='seismic')"
      ]
    },
    {
      "cell_type": "code",
      "execution_count": 26,
      "metadata": {
        "colab": {
          "base_uri": "https://localhost:8080/",
          "height": 143
        },
        "id": "n6oB9brGo_mQ",
        "outputId": "c57d6828-58ae-4eb8-8590-3cefff60b838"
      },
      "outputs": [
        {
          "output_type": "execute_result",
          "data": {
            "text/plain": [
              "         airline  flight source_city departure_time stops arrival_time  \\\n",
              "3792     Vistara  UK-836     Chennai        Morning   one        Night   \n",
              "14310  Air_India  AI-889       Delhi        Morning   one    Afternoon   \n",
              "369    Air_India  AI-409       Delhi        Morning   one      Evening   \n",
              "\n",
              "      destination_city     class  duration  days_left  price  \n",
              "3792            Mumbai  Business     11.25         43  69713  \n",
              "14310          Kolkata   Economy     27.58         24   4559  \n",
              "369            Kolkata   Economy      7.00          9  17641  "
            ],
            "text/html": [
              "\n",
              "  <div id=\"df-b2911b77-a4ad-4756-afc6-b48e200c79b9\">\n",
              "    <div class=\"colab-df-container\">\n",
              "      <div>\n",
              "<style scoped>\n",
              "    .dataframe tbody tr th:only-of-type {\n",
              "        vertical-align: middle;\n",
              "    }\n",
              "\n",
              "    .dataframe tbody tr th {\n",
              "        vertical-align: top;\n",
              "    }\n",
              "\n",
              "    .dataframe thead th {\n",
              "        text-align: right;\n",
              "    }\n",
              "</style>\n",
              "<table border=\"1\" class=\"dataframe\">\n",
              "  <thead>\n",
              "    <tr style=\"text-align: right;\">\n",
              "      <th></th>\n",
              "      <th>airline</th>\n",
              "      <th>flight</th>\n",
              "      <th>source_city</th>\n",
              "      <th>departure_time</th>\n",
              "      <th>stops</th>\n",
              "      <th>arrival_time</th>\n",
              "      <th>destination_city</th>\n",
              "      <th>class</th>\n",
              "      <th>duration</th>\n",
              "      <th>days_left</th>\n",
              "      <th>price</th>\n",
              "    </tr>\n",
              "  </thead>\n",
              "  <tbody>\n",
              "    <tr>\n",
              "      <th>3792</th>\n",
              "      <td>Vistara</td>\n",
              "      <td>UK-836</td>\n",
              "      <td>Chennai</td>\n",
              "      <td>Morning</td>\n",
              "      <td>one</td>\n",
              "      <td>Night</td>\n",
              "      <td>Mumbai</td>\n",
              "      <td>Business</td>\n",
              "      <td>11.25</td>\n",
              "      <td>43</td>\n",
              "      <td>69713</td>\n",
              "    </tr>\n",
              "    <tr>\n",
              "      <th>14310</th>\n",
              "      <td>Air_India</td>\n",
              "      <td>AI-889</td>\n",
              "      <td>Delhi</td>\n",
              "      <td>Morning</td>\n",
              "      <td>one</td>\n",
              "      <td>Afternoon</td>\n",
              "      <td>Kolkata</td>\n",
              "      <td>Economy</td>\n",
              "      <td>27.58</td>\n",
              "      <td>24</td>\n",
              "      <td>4559</td>\n",
              "    </tr>\n",
              "    <tr>\n",
              "      <th>369</th>\n",
              "      <td>Air_India</td>\n",
              "      <td>AI-409</td>\n",
              "      <td>Delhi</td>\n",
              "      <td>Morning</td>\n",
              "      <td>one</td>\n",
              "      <td>Evening</td>\n",
              "      <td>Kolkata</td>\n",
              "      <td>Economy</td>\n",
              "      <td>7.00</td>\n",
              "      <td>9</td>\n",
              "      <td>17641</td>\n",
              "    </tr>\n",
              "  </tbody>\n",
              "</table>\n",
              "</div>\n",
              "      <button class=\"colab-df-convert\" onclick=\"convertToInteractive('df-b2911b77-a4ad-4756-afc6-b48e200c79b9')\"\n",
              "              title=\"Convert this dataframe to an interactive table.\"\n",
              "              style=\"display:none;\">\n",
              "        \n",
              "  <svg xmlns=\"http://www.w3.org/2000/svg\" height=\"24px\"viewBox=\"0 0 24 24\"\n",
              "       width=\"24px\">\n",
              "    <path d=\"M0 0h24v24H0V0z\" fill=\"none\"/>\n",
              "    <path d=\"M18.56 5.44l.94 2.06.94-2.06 2.06-.94-2.06-.94-.94-2.06-.94 2.06-2.06.94zm-11 1L8.5 8.5l.94-2.06 2.06-.94-2.06-.94L8.5 2.5l-.94 2.06-2.06.94zm10 10l.94 2.06.94-2.06 2.06-.94-2.06-.94-.94-2.06-.94 2.06-2.06.94z\"/><path d=\"M17.41 7.96l-1.37-1.37c-.4-.4-.92-.59-1.43-.59-.52 0-1.04.2-1.43.59L10.3 9.45l-7.72 7.72c-.78.78-.78 2.05 0 2.83L4 21.41c.39.39.9.59 1.41.59.51 0 1.02-.2 1.41-.59l7.78-7.78 2.81-2.81c.8-.78.8-2.07 0-2.86zM5.41 20L4 18.59l7.72-7.72 1.47 1.35L5.41 20z\"/>\n",
              "  </svg>\n",
              "      </button>\n",
              "      \n",
              "  <style>\n",
              "    .colab-df-container {\n",
              "      display:flex;\n",
              "      flex-wrap:wrap;\n",
              "      gap: 12px;\n",
              "    }\n",
              "\n",
              "    .colab-df-convert {\n",
              "      background-color: #E8F0FE;\n",
              "      border: none;\n",
              "      border-radius: 50%;\n",
              "      cursor: pointer;\n",
              "      display: none;\n",
              "      fill: #1967D2;\n",
              "      height: 32px;\n",
              "      padding: 0 0 0 0;\n",
              "      width: 32px;\n",
              "    }\n",
              "\n",
              "    .colab-df-convert:hover {\n",
              "      background-color: #E2EBFA;\n",
              "      box-shadow: 0px 1px 2px rgba(60, 64, 67, 0.3), 0px 1px 3px 1px rgba(60, 64, 67, 0.15);\n",
              "      fill: #174EA6;\n",
              "    }\n",
              "\n",
              "    [theme=dark] .colab-df-convert {\n",
              "      background-color: #3B4455;\n",
              "      fill: #D2E3FC;\n",
              "    }\n",
              "\n",
              "    [theme=dark] .colab-df-convert:hover {\n",
              "      background-color: #434B5C;\n",
              "      box-shadow: 0px 1px 3px 1px rgba(0, 0, 0, 0.15);\n",
              "      filter: drop-shadow(0px 1px 2px rgba(0, 0, 0, 0.3));\n",
              "      fill: #FFFFFF;\n",
              "    }\n",
              "  </style>\n",
              "\n",
              "      <script>\n",
              "        const buttonEl =\n",
              "          document.querySelector('#df-b2911b77-a4ad-4756-afc6-b48e200c79b9 button.colab-df-convert');\n",
              "        buttonEl.style.display =\n",
              "          google.colab.kernel.accessAllowed ? 'block' : 'none';\n",
              "\n",
              "        async function convertToInteractive(key) {\n",
              "          const element = document.querySelector('#df-b2911b77-a4ad-4756-afc6-b48e200c79b9');\n",
              "          const dataTable =\n",
              "            await google.colab.kernel.invokeFunction('convertToInteractive',\n",
              "                                                     [key], {});\n",
              "          if (!dataTable) return;\n",
              "\n",
              "          const docLinkHtml = 'Like what you see? Visit the ' +\n",
              "            '<a target=\"_blank\" href=https://colab.research.google.com/notebooks/data_table.ipynb>data table notebook</a>'\n",
              "            + ' to learn more about interactive tables.';\n",
              "          element.innerHTML = '';\n",
              "          dataTable['output_type'] = 'display_data';\n",
              "          await google.colab.output.renderOutput(dataTable, element);\n",
              "          const docLink = document.createElement('div');\n",
              "          docLink.innerHTML = docLinkHtml;\n",
              "          element.appendChild(docLink);\n",
              "        }\n",
              "      </script>\n",
              "    </div>\n",
              "  </div>\n",
              "  "
            ]
          },
          "metadata": {},
          "execution_count": 26
        }
      ],
      "source": [
        "df_train.head(3)"
      ]
    },
    {
      "cell_type": "code",
      "execution_count": 27,
      "metadata": {
        "id": "yK5qcOovpyCp"
      },
      "outputs": [],
      "source": [
        "# categorical col\n",
        "X_train_cat = df_train[['airline','flight','stops','class','source_city','departure_time','arrival_time','destination_city']]\n",
        "# numerical col\n",
        "X_train_num = df_train[['duration','days_left']]\n",
        "# ylabel\n",
        "y_train = df_train[['price']]\n",
        "# xlabel\n",
        "X_train = df_train.drop('price', axis=1)"
      ]
    },
    {
      "cell_type": "markdown",
      "metadata": {
        "id": "B4i9VZDmxwzQ"
      },
      "source": [
        "#### create pipeline"
      ]
    },
    {
      "cell_type": "markdown",
      "metadata": {
        "id": "OKrf3C9yyAHi"
      },
      "source": [
        "A pipline that works with numerical columns:"
      ]
    },
    {
      "cell_type": "code",
      "execution_count": 28,
      "metadata": {
        "id": "XQZNheLLFbq9"
      },
      "outputs": [],
      "source": [
        "from sklearn.pipeline import Pipeline\n",
        "from sklearn.preprocessing import StandardScaler\n",
        "\n",
        "num_pipeline = Pipeline([\n",
        "          ('std_scaler', StandardScaler())             \n",
        "])"
      ]
    },
    {
      "cell_type": "markdown",
      "metadata": {
        "id": "n_g8Moa1yaYv"
      },
      "source": [
        "### Let's write a generic `pipline' that also works with text columns"
      ]
    },
    {
      "cell_type": "markdown",
      "metadata": {
        "id": "9pXZDKNtyyEo"
      },
      "source": [
        "full_pipline:"
      ]
    },
    {
      "cell_type": "code",
      "execution_count": 29,
      "metadata": {
        "id": "AexMm4HdrP8h"
      },
      "outputs": [],
      "source": [
        "from sklearn.compose import ColumnTransformer\n",
        "\n",
        "num_attribs = list(X_train_num)\n",
        "cat_attribs = list(X_train_cat)\n",
        "\n",
        "full_pipeline = ColumnTransformer([\n",
        "    ('cat', OrdinalEncoder(), cat_attribs),\n",
        "    ('num', num_pipeline, num_attribs),\n",
        "])"
      ]
    },
    {
      "cell_type": "code",
      "execution_count": 30,
      "metadata": {
        "colab": {
          "base_uri": "https://localhost:8080/"
        },
        "id": "zOUVNtFVtaHa",
        "outputId": "a79d0a7e-264c-4190-f8cf-2a57be8e5d68"
      },
      "outputs": [
        {
          "output_type": "execute_result",
          "data": {
            "text/plain": [
              "array([[ 5.00000000e+00,  1.18600000e+03,  0.00000000e+00, ...,\n",
              "         5.00000000e+00, -1.30422093e-01,  1.25132612e+00],\n",
              "       [ 1.00000000e+00,  6.91000000e+02,  0.00000000e+00, ...,\n",
              "         4.00000000e+00,  2.14494186e+00, -1.46288775e-01],\n",
              "       [ 1.00000000e+00,  5.31000000e+02,  0.00000000e+00, ...,\n",
              "         4.00000000e+00, -7.22601934e-01, -1.24966895e+00],\n",
              "       ...,\n",
              "       [ 2.00000000e+00,  8.54000000e+02,  0.00000000e+00, ...,\n",
              "         2.00000000e+00, -3.63113936e-01,  1.25132612e+00],\n",
              "       [ 1.00000000e+00,  5.36000000e+02,  0.00000000e+00, ...,\n",
              "         3.00000000e+00,  2.45844884e+00,  1.10420876e+00],\n",
              "       [ 5.00000000e+00,  1.23400000e+03,  0.00000000e+00, ...,\n",
              "         0.00000000e+00,  4.03236446e-01, -1.10255160e+00]])"
            ]
          },
          "metadata": {},
          "execution_count": 30
        }
      ],
      "source": [
        "X_prepared = full_pipeline.fit_transform(X_train)\n",
        "X_prepared"
      ]
    },
    {
      "cell_type": "markdown",
      "metadata": {
        "id": "lt8OZhXG1d0w"
      },
      "source": [
        "# The data is ready for ML"
      ]
    },
    {
      "cell_type": "markdown",
      "metadata": {
        "id": "8bw_8TjN2D8B"
      },
      "source": [
        "### Machine Learning\n",
        "\n",
        "\n",
        "\n"
      ]
    },
    {
      "cell_type": "markdown",
      "metadata": {
        "id": "q57TESs_3qS2"
      },
      "source": [
        "## `Linear Regression` \n",
        "We create a new model from `LinearRegression` class in sklearn."
      ]
    },
    {
      "cell_type": "code",
      "execution_count": 31,
      "metadata": {
        "colab": {
          "base_uri": "https://localhost:8080/"
        },
        "id": "LKjYw_99tmfv",
        "outputId": "3ac312b8-714b-4f7e-ef97-453479af12a4"
      },
      "outputs": [
        {
          "output_type": "execute_result",
          "data": {
            "text/plain": [
              "LinearRegression()"
            ]
          },
          "metadata": {},
          "execution_count": 31
        }
      ],
      "source": [
        "from sklearn.linear_model import LinearRegression\n",
        "LR_model = LinearRegression()\n",
        "\n",
        "LR_model.fit(X_prepared, y_train)"
      ]
    },
    {
      "cell_type": "markdown",
      "metadata": {
        "id": "ITTguQyxC3eu"
      },
      "source": [
        "## RandomForestRegressor"
      ]
    },
    {
      "cell_type": "code",
      "execution_count": 32,
      "metadata": {
        "colab": {
          "base_uri": "https://localhost:8080/"
        },
        "id": "1oZPFALkCulJ",
        "outputId": "f2d82615-93c8-4259-b2e9-42300ea5cf9a"
      },
      "outputs": [
        {
          "output_type": "stream",
          "name": "stderr",
          "text": [
            "/usr/local/lib/python3.7/dist-packages/ipykernel_launcher.py:4: DataConversionWarning: A column-vector y was passed when a 1d array was expected. Please change the shape of y to (n_samples,), for example using ravel().\n",
            "  after removing the cwd from sys.path.\n"
          ]
        },
        {
          "output_type": "execute_result",
          "data": {
            "text/plain": [
              "RandomForestRegressor()"
            ]
          },
          "metadata": {},
          "execution_count": 32
        }
      ],
      "source": [
        "from sklearn.ensemble import RandomForestRegressor\n",
        "RF_model = RandomForestRegressor()\n",
        "\n",
        "RF_model.fit(X_prepared, y_train)"
      ]
    },
    {
      "cell_type": "markdown",
      "metadata": {
        "id": "fcAmqvuCvQud"
      },
      "source": [
        "##Decision Tree"
      ]
    },
    {
      "cell_type": "code",
      "execution_count": 34,
      "metadata": {
        "colab": {
          "base_uri": "https://localhost:8080/"
        },
        "id": "M5msSMrfvVEi",
        "outputId": "c2f8ba29-a58a-4e2b-ad9f-162288680a70"
      },
      "outputs": [
        {
          "output_type": "execute_result",
          "data": {
            "text/plain": [
              "DecisionTreeRegressor()"
            ]
          },
          "metadata": {},
          "execution_count": 34
        }
      ],
      "source": [
        "from sklearn.tree import DecisionTreeRegressor\n",
        "Tree_model = DecisionTreeRegressor()\n",
        "\n",
        "Tree_model.fit(X_prepared, y_train)"
      ]
    },
    {
      "cell_type": "markdown",
      "metadata": {
        "id": "6pfHl74D5BWX"
      },
      "source": [
        "## Let's check the model.\n"
      ]
    },
    {
      "cell_type": "markdown",
      "metadata": {
        "id": "u82UL5jsoT2B"
      },
      "source": [
        "### We will use `df_test` which we allocated for testing."
      ]
    },
    {
      "cell_type": "code",
      "execution_count": 35,
      "metadata": {
        "colab": {
          "base_uri": "https://localhost:8080/",
          "height": 143
        },
        "id": "gs8lLxXWohPl",
        "outputId": "d2b96a10-5df2-49e5-de23-3440bbd23751"
      },
      "outputs": [
        {
          "output_type": "execute_result",
          "data": {
            "text/plain": [
              "        airline  flight source_city departure_time stops   arrival_time  \\\n",
              "10796    Indigo  6E-929     Chennai      Afternoon   one          Night   \n",
              "17971  GO_FIRST  G8-791   Bangalore        Evening   one  Early_Morning   \n",
              "2960    Vistara  UK-849      Mumbai        Evening  zero        Evening   \n",
              "\n",
              "      destination_city    class  duration  days_left  price  \n",
              "10796          Kolkata  Economy      8.83         49   4079  \n",
              "17971           Mumbai  Economy     11.75         20   5177  \n",
              "2960         Bangalore  Economy      1.75         40   2074  "
            ],
            "text/html": [
              "\n",
              "  <div id=\"df-8f778536-c3d3-4033-95d7-95110de076df\">\n",
              "    <div class=\"colab-df-container\">\n",
              "      <div>\n",
              "<style scoped>\n",
              "    .dataframe tbody tr th:only-of-type {\n",
              "        vertical-align: middle;\n",
              "    }\n",
              "\n",
              "    .dataframe tbody tr th {\n",
              "        vertical-align: top;\n",
              "    }\n",
              "\n",
              "    .dataframe thead th {\n",
              "        text-align: right;\n",
              "    }\n",
              "</style>\n",
              "<table border=\"1\" class=\"dataframe\">\n",
              "  <thead>\n",
              "    <tr style=\"text-align: right;\">\n",
              "      <th></th>\n",
              "      <th>airline</th>\n",
              "      <th>flight</th>\n",
              "      <th>source_city</th>\n",
              "      <th>departure_time</th>\n",
              "      <th>stops</th>\n",
              "      <th>arrival_time</th>\n",
              "      <th>destination_city</th>\n",
              "      <th>class</th>\n",
              "      <th>duration</th>\n",
              "      <th>days_left</th>\n",
              "      <th>price</th>\n",
              "    </tr>\n",
              "  </thead>\n",
              "  <tbody>\n",
              "    <tr>\n",
              "      <th>10796</th>\n",
              "      <td>Indigo</td>\n",
              "      <td>6E-929</td>\n",
              "      <td>Chennai</td>\n",
              "      <td>Afternoon</td>\n",
              "      <td>one</td>\n",
              "      <td>Night</td>\n",
              "      <td>Kolkata</td>\n",
              "      <td>Economy</td>\n",
              "      <td>8.83</td>\n",
              "      <td>49</td>\n",
              "      <td>4079</td>\n",
              "    </tr>\n",
              "    <tr>\n",
              "      <th>17971</th>\n",
              "      <td>GO_FIRST</td>\n",
              "      <td>G8-791</td>\n",
              "      <td>Bangalore</td>\n",
              "      <td>Evening</td>\n",
              "      <td>one</td>\n",
              "      <td>Early_Morning</td>\n",
              "      <td>Mumbai</td>\n",
              "      <td>Economy</td>\n",
              "      <td>11.75</td>\n",
              "      <td>20</td>\n",
              "      <td>5177</td>\n",
              "    </tr>\n",
              "    <tr>\n",
              "      <th>2960</th>\n",
              "      <td>Vistara</td>\n",
              "      <td>UK-849</td>\n",
              "      <td>Mumbai</td>\n",
              "      <td>Evening</td>\n",
              "      <td>zero</td>\n",
              "      <td>Evening</td>\n",
              "      <td>Bangalore</td>\n",
              "      <td>Economy</td>\n",
              "      <td>1.75</td>\n",
              "      <td>40</td>\n",
              "      <td>2074</td>\n",
              "    </tr>\n",
              "  </tbody>\n",
              "</table>\n",
              "</div>\n",
              "      <button class=\"colab-df-convert\" onclick=\"convertToInteractive('df-8f778536-c3d3-4033-95d7-95110de076df')\"\n",
              "              title=\"Convert this dataframe to an interactive table.\"\n",
              "              style=\"display:none;\">\n",
              "        \n",
              "  <svg xmlns=\"http://www.w3.org/2000/svg\" height=\"24px\"viewBox=\"0 0 24 24\"\n",
              "       width=\"24px\">\n",
              "    <path d=\"M0 0h24v24H0V0z\" fill=\"none\"/>\n",
              "    <path d=\"M18.56 5.44l.94 2.06.94-2.06 2.06-.94-2.06-.94-.94-2.06-.94 2.06-2.06.94zm-11 1L8.5 8.5l.94-2.06 2.06-.94-2.06-.94L8.5 2.5l-.94 2.06-2.06.94zm10 10l.94 2.06.94-2.06 2.06-.94-2.06-.94-.94-2.06-.94 2.06-2.06.94z\"/><path d=\"M17.41 7.96l-1.37-1.37c-.4-.4-.92-.59-1.43-.59-.52 0-1.04.2-1.43.59L10.3 9.45l-7.72 7.72c-.78.78-.78 2.05 0 2.83L4 21.41c.39.39.9.59 1.41.59.51 0 1.02-.2 1.41-.59l7.78-7.78 2.81-2.81c.8-.78.8-2.07 0-2.86zM5.41 20L4 18.59l7.72-7.72 1.47 1.35L5.41 20z\"/>\n",
              "  </svg>\n",
              "      </button>\n",
              "      \n",
              "  <style>\n",
              "    .colab-df-container {\n",
              "      display:flex;\n",
              "      flex-wrap:wrap;\n",
              "      gap: 12px;\n",
              "    }\n",
              "\n",
              "    .colab-df-convert {\n",
              "      background-color: #E8F0FE;\n",
              "      border: none;\n",
              "      border-radius: 50%;\n",
              "      cursor: pointer;\n",
              "      display: none;\n",
              "      fill: #1967D2;\n",
              "      height: 32px;\n",
              "      padding: 0 0 0 0;\n",
              "      width: 32px;\n",
              "    }\n",
              "\n",
              "    .colab-df-convert:hover {\n",
              "      background-color: #E2EBFA;\n",
              "      box-shadow: 0px 1px 2px rgba(60, 64, 67, 0.3), 0px 1px 3px 1px rgba(60, 64, 67, 0.15);\n",
              "      fill: #174EA6;\n",
              "    }\n",
              "\n",
              "    [theme=dark] .colab-df-convert {\n",
              "      background-color: #3B4455;\n",
              "      fill: #D2E3FC;\n",
              "    }\n",
              "\n",
              "    [theme=dark] .colab-df-convert:hover {\n",
              "      background-color: #434B5C;\n",
              "      box-shadow: 0px 1px 3px 1px rgba(0, 0, 0, 0.15);\n",
              "      filter: drop-shadow(0px 1px 2px rgba(0, 0, 0, 0.3));\n",
              "      fill: #FFFFFF;\n",
              "    }\n",
              "  </style>\n",
              "\n",
              "      <script>\n",
              "        const buttonEl =\n",
              "          document.querySelector('#df-8f778536-c3d3-4033-95d7-95110de076df button.colab-df-convert');\n",
              "        buttonEl.style.display =\n",
              "          google.colab.kernel.accessAllowed ? 'block' : 'none';\n",
              "\n",
              "        async function convertToInteractive(key) {\n",
              "          const element = document.querySelector('#df-8f778536-c3d3-4033-95d7-95110de076df');\n",
              "          const dataTable =\n",
              "            await google.colab.kernel.invokeFunction('convertToInteractive',\n",
              "                                                     [key], {});\n",
              "          if (!dataTable) return;\n",
              "\n",
              "          const docLinkHtml = 'Like what you see? Visit the ' +\n",
              "            '<a target=\"_blank\" href=https://colab.research.google.com/notebooks/data_table.ipynb>data table notebook</a>'\n",
              "            + ' to learn more about interactive tables.';\n",
              "          element.innerHTML = '';\n",
              "          dataTable['output_type'] = 'display_data';\n",
              "          await google.colab.output.renderOutput(dataTable, element);\n",
              "          const docLink = document.createElement('div');\n",
              "          docLink.innerHTML = docLinkHtml;\n",
              "          element.appendChild(docLink);\n",
              "        }\n",
              "      </script>\n",
              "    </div>\n",
              "  </div>\n",
              "  "
            ]
          },
          "metadata": {},
          "execution_count": 35
        }
      ],
      "source": [
        "df_test.head(3)"
      ]
    },
    {
      "cell_type": "code",
      "execution_count": 36,
      "metadata": {
        "id": "1D3CRpbCoqwv"
      },
      "outputs": [],
      "source": [
        "y_test = df_test[['price']]\n",
        "X_test = df_test.drop('price', axis=1)"
      ]
    },
    {
      "cell_type": "markdown",
      "metadata": {
        "id": "YxYjZPO1o-uf"
      },
      "source": [
        "`X_test` 👉full_pipline:"
      ]
    },
    {
      "cell_type": "code",
      "execution_count": 37,
      "metadata": {
        "colab": {
          "base_uri": "https://localhost:8080/"
        },
        "id": "Mcx0Kn-MqCaS",
        "outputId": "f450ef0e-7ae7-452d-e6c8-ae0400a80cd2"
      },
      "outputs": [
        {
          "output_type": "execute_result",
          "data": {
            "text/plain": [
              "array([4079, 5177, 2074, ..., 4764, 5206, 3272])"
            ]
          },
          "metadata": {},
          "execution_count": 37
        }
      ],
      "source": [
        "y_test['price'].values"
      ]
    },
    {
      "cell_type": "code",
      "execution_count": 38,
      "metadata": {
        "colab": {
          "base_uri": "https://localhost:8080/",
          "height": 424
        },
        "id": "qiVRffGipGWg",
        "outputId": "d20e8700-9a51-42cf-8811-2f4fee40f474"
      },
      "outputs": [
        {
          "output_type": "execute_result",
          "data": {
            "text/plain": [
              "      Predict  Original \n",
              "0     3193.92       4079\n",
              "1     5907.85       5177\n",
              "2     2137.02       2074\n",
              "3     3390.01       3393\n",
              "4     4974.25       2622\n",
              "...       ...        ...\n",
              "3968  5011.19       3728\n",
              "3969  5487.48       4149\n",
              "3970  5906.84       4764\n",
              "3971  4827.57       5206\n",
              "3972  4428.48       3272\n",
              "\n",
              "[3973 rows x 2 columns]"
            ],
            "text/html": [
              "\n",
              "  <div id=\"df-a1658ff8-b56c-4e60-8f67-063d1368c4da\">\n",
              "    <div class=\"colab-df-container\">\n",
              "      <div>\n",
              "<style scoped>\n",
              "    .dataframe tbody tr th:only-of-type {\n",
              "        vertical-align: middle;\n",
              "    }\n",
              "\n",
              "    .dataframe tbody tr th {\n",
              "        vertical-align: top;\n",
              "    }\n",
              "\n",
              "    .dataframe thead th {\n",
              "        text-align: right;\n",
              "    }\n",
              "</style>\n",
              "<table border=\"1\" class=\"dataframe\">\n",
              "  <thead>\n",
              "    <tr style=\"text-align: right;\">\n",
              "      <th></th>\n",
              "      <th>Predict</th>\n",
              "      <th>Original</th>\n",
              "    </tr>\n",
              "  </thead>\n",
              "  <tbody>\n",
              "    <tr>\n",
              "      <th>0</th>\n",
              "      <td>3193.92</td>\n",
              "      <td>4079</td>\n",
              "    </tr>\n",
              "    <tr>\n",
              "      <th>1</th>\n",
              "      <td>5907.85</td>\n",
              "      <td>5177</td>\n",
              "    </tr>\n",
              "    <tr>\n",
              "      <th>2</th>\n",
              "      <td>2137.02</td>\n",
              "      <td>2074</td>\n",
              "    </tr>\n",
              "    <tr>\n",
              "      <th>3</th>\n",
              "      <td>3390.01</td>\n",
              "      <td>3393</td>\n",
              "    </tr>\n",
              "    <tr>\n",
              "      <th>4</th>\n",
              "      <td>4974.25</td>\n",
              "      <td>2622</td>\n",
              "    </tr>\n",
              "    <tr>\n",
              "      <th>...</th>\n",
              "      <td>...</td>\n",
              "      <td>...</td>\n",
              "    </tr>\n",
              "    <tr>\n",
              "      <th>3968</th>\n",
              "      <td>5011.19</td>\n",
              "      <td>3728</td>\n",
              "    </tr>\n",
              "    <tr>\n",
              "      <th>3969</th>\n",
              "      <td>5487.48</td>\n",
              "      <td>4149</td>\n",
              "    </tr>\n",
              "    <tr>\n",
              "      <th>3970</th>\n",
              "      <td>5906.84</td>\n",
              "      <td>4764</td>\n",
              "    </tr>\n",
              "    <tr>\n",
              "      <th>3971</th>\n",
              "      <td>4827.57</td>\n",
              "      <td>5206</td>\n",
              "    </tr>\n",
              "    <tr>\n",
              "      <th>3972</th>\n",
              "      <td>4428.48</td>\n",
              "      <td>3272</td>\n",
              "    </tr>\n",
              "  </tbody>\n",
              "</table>\n",
              "<p>3973 rows × 2 columns</p>\n",
              "</div>\n",
              "      <button class=\"colab-df-convert\" onclick=\"convertToInteractive('df-a1658ff8-b56c-4e60-8f67-063d1368c4da')\"\n",
              "              title=\"Convert this dataframe to an interactive table.\"\n",
              "              style=\"display:none;\">\n",
              "        \n",
              "  <svg xmlns=\"http://www.w3.org/2000/svg\" height=\"24px\"viewBox=\"0 0 24 24\"\n",
              "       width=\"24px\">\n",
              "    <path d=\"M0 0h24v24H0V0z\" fill=\"none\"/>\n",
              "    <path d=\"M18.56 5.44l.94 2.06.94-2.06 2.06-.94-2.06-.94-.94-2.06-.94 2.06-2.06.94zm-11 1L8.5 8.5l.94-2.06 2.06-.94-2.06-.94L8.5 2.5l-.94 2.06-2.06.94zm10 10l.94 2.06.94-2.06 2.06-.94-2.06-.94-.94-2.06-.94 2.06-2.06.94z\"/><path d=\"M17.41 7.96l-1.37-1.37c-.4-.4-.92-.59-1.43-.59-.52 0-1.04.2-1.43.59L10.3 9.45l-7.72 7.72c-.78.78-.78 2.05 0 2.83L4 21.41c.39.39.9.59 1.41.59.51 0 1.02-.2 1.41-.59l7.78-7.78 2.81-2.81c.8-.78.8-2.07 0-2.86zM5.41 20L4 18.59l7.72-7.72 1.47 1.35L5.41 20z\"/>\n",
              "  </svg>\n",
              "      </button>\n",
              "      \n",
              "  <style>\n",
              "    .colab-df-container {\n",
              "      display:flex;\n",
              "      flex-wrap:wrap;\n",
              "      gap: 12px;\n",
              "    }\n",
              "\n",
              "    .colab-df-convert {\n",
              "      background-color: #E8F0FE;\n",
              "      border: none;\n",
              "      border-radius: 50%;\n",
              "      cursor: pointer;\n",
              "      display: none;\n",
              "      fill: #1967D2;\n",
              "      height: 32px;\n",
              "      padding: 0 0 0 0;\n",
              "      width: 32px;\n",
              "    }\n",
              "\n",
              "    .colab-df-convert:hover {\n",
              "      background-color: #E2EBFA;\n",
              "      box-shadow: 0px 1px 2px rgba(60, 64, 67, 0.3), 0px 1px 3px 1px rgba(60, 64, 67, 0.15);\n",
              "      fill: #174EA6;\n",
              "    }\n",
              "\n",
              "    [theme=dark] .colab-df-convert {\n",
              "      background-color: #3B4455;\n",
              "      fill: #D2E3FC;\n",
              "    }\n",
              "\n",
              "    [theme=dark] .colab-df-convert:hover {\n",
              "      background-color: #434B5C;\n",
              "      box-shadow: 0px 1px 3px 1px rgba(0, 0, 0, 0.15);\n",
              "      filter: drop-shadow(0px 1px 2px rgba(0, 0, 0, 0.3));\n",
              "      fill: #FFFFFF;\n",
              "    }\n",
              "  </style>\n",
              "\n",
              "      <script>\n",
              "        const buttonEl =\n",
              "          document.querySelector('#df-a1658ff8-b56c-4e60-8f67-063d1368c4da button.colab-df-convert');\n",
              "        buttonEl.style.display =\n",
              "          google.colab.kernel.accessAllowed ? 'block' : 'none';\n",
              "\n",
              "        async function convertToInteractive(key) {\n",
              "          const element = document.querySelector('#df-a1658ff8-b56c-4e60-8f67-063d1368c4da');\n",
              "          const dataTable =\n",
              "            await google.colab.kernel.invokeFunction('convertToInteractive',\n",
              "                                                     [key], {});\n",
              "          if (!dataTable) return;\n",
              "\n",
              "          const docLinkHtml = 'Like what you see? Visit the ' +\n",
              "            '<a target=\"_blank\" href=https://colab.research.google.com/notebooks/data_table.ipynb>data table notebook</a>'\n",
              "            + ' to learn more about interactive tables.';\n",
              "          element.innerHTML = '';\n",
              "          dataTable['output_type'] = 'display_data';\n",
              "          await google.colab.output.renderOutput(dataTable, element);\n",
              "          const docLink = document.createElement('div');\n",
              "          docLink.innerHTML = docLinkHtml;\n",
              "          element.appendChild(docLink);\n",
              "        }\n",
              "      </script>\n",
              "    </div>\n",
              "  </div>\n",
              "  "
            ]
          },
          "metadata": {},
          "execution_count": 38
        }
      ],
      "source": [
        "\n",
        "X_test_prepared = full_pipeline.fit_transform(X_test)\n",
        "\n",
        "y_predict = RF_model.predict(X_test_prepared)\n",
        "\n",
        "pd.DataFrame({'Predict':y_predict, 'Original ': y_test['price'].values})"
      ]
    },
    {
      "cell_type": "markdown",
      "metadata": {
        "id": "NbTN9EBYqTw4"
      },
      "source": [
        "## Checking error:"
      ]
    },
    {
      "cell_type": "code",
      "execution_count": 39,
      "metadata": {
        "colab": {
          "base_uri": "https://localhost:8080/"
        },
        "id": "dTd2QBpoqZbk",
        "outputId": "7fc688d7-ebcf-4ea8-83db-607aa7a80229"
      },
      "outputs": [
        {
          "output_type": "stream",
          "name": "stdout",
          "text": [
            "MAE = 3421.37979520094\n",
            "RMSE = 5832.081513194464\n"
          ]
        }
      ],
      "source": [
        "from sklearn.metrics import mean_absolute_error, mean_squared_error\n",
        "\n",
        "mae = mean_absolute_error(y_test.values, y_predict)\n",
        "rmse = np.sqrt(mean_squared_error(y_test.values, y_predict))\n",
        "print(f\"MAE = {mae}\")\n",
        "print(f'RMSE = {rmse}')"
      ]
    },
    {
      "cell_type": "markdown",
      "metadata": {
        "id": "oKDrmUPfP5Ew"
      },
      "source": [
        "##Cross-Validation"
      ]
    },
    {
      "cell_type": "code",
      "execution_count": 40,
      "metadata": {
        "id": "Z-8hCcfaOON-"
      },
      "outputs": [],
      "source": [
        "X = df.drop(\"price\", axis=1)\n",
        "y = df[\"price\"].copy()\n",
        "\n",
        "X_prepared = full_pipeline.fit_transform(X)"
      ]
    },
    {
      "cell_type": "markdown",
      "metadata": {
        "id": "tVfzVTcHPULw"
      },
      "source": [
        "We can create a simple function to display the validation results"
      ]
    },
    {
      "cell_type": "code",
      "execution_count": 41,
      "metadata": {
        "id": "_cnSLh7QNy6j"
      },
      "outputs": [],
      "source": [
        "def display_scores(scores):\n",
        "    print(\"Scores:\", scores)\n",
        "    print(\"Mean:\", scores.mean())\n",
        "    print(\"Std.dev:\", scores.std())"
      ]
    },
    {
      "cell_type": "markdown",
      "metadata": {
        "id": "eg6sCDT-QAg8"
      },
      "source": [
        "##Random Forest"
      ]
    },
    {
      "cell_type": "code",
      "execution_count": 43,
      "metadata": {
        "colab": {
          "base_uri": "https://localhost:8080/"
        },
        "id": "aRBBBXTPOZGg",
        "outputId": "b222109f-b873-41a9-827d-1e8a5bafe2e2"
      },
      "outputs": [
        {
          "output_type": "stream",
          "name": "stdout",
          "text": [
            "Scores: [3023.90109379 2630.29166996 3019.44089026 2714.45113055 2841.44832906\n",
            " 2840.42834561 2812.28186094 2933.67261176 2895.06354169 2806.45645006]\n",
            "Mean: 2851.7435923667595\n",
            "Std.dev: 117.50826609936587\n"
          ]
        }
      ],
      "source": [
        "from sklearn.model_selection import cross_val_score\n",
        "\n",
        "# predict\n",
        "scores = cross_val_score(RF_model, X_prepared, y, scoring=\"neg_mean_squared_error\", cv=10)\n",
        "RF_rmse_scores = np.sqrt(-scores)\n",
        "\n",
        "# errors\n",
        "display_scores(RF_rmse_scores)"
      ]
    },
    {
      "cell_type": "markdown",
      "metadata": {
        "id": "qyD09KBHNdP_"
      },
      "source": [
        "#LinearRegression"
      ]
    },
    {
      "cell_type": "code",
      "execution_count": 44,
      "metadata": {
        "colab": {
          "base_uri": "https://localhost:8080/"
        },
        "id": "bSFUJ7w1Nij-",
        "outputId": "6e959004-9377-4f0e-9ff7-4dd461c65770"
      },
      "outputs": [
        {
          "output_type": "stream",
          "name": "stdout",
          "text": [
            "Scores: [6606.93280356 6248.21268504 6470.33750377 6287.70609637 6548.8722286\n",
            " 6552.03795535 6443.69176351 6568.93018082 6571.43923125 6606.66053347]\n",
            "Mean: 6490.482098174364\n",
            "Std.dev: 122.21808422364852\n"
          ]
        }
      ],
      "source": [
        "scores = cross_val_score(LR_model, X_prepared, y, scoring=\"neg_mean_squared_error\", cv=10)\n",
        "LR_rmse_scores = np.sqrt(-scores)\n",
        "\n",
        "display_scores(LR_rmse_scores)"
      ]
    },
    {
      "cell_type": "markdown",
      "metadata": {
        "id": "NcbZQL4ENw-J"
      },
      "source": [
        "# Decision-Tree"
      ]
    },
    {
      "cell_type": "code",
      "execution_count": 45,
      "metadata": {
        "colab": {
          "base_uri": "https://localhost:8080/"
        },
        "id": "znenWroVN0wR",
        "outputId": "52aa5b16-3664-4104-d07b-6203b7b7163d"
      },
      "outputs": [
        {
          "output_type": "stream",
          "name": "stdout",
          "text": [
            "Scores: [4180.78637545 3606.45126415 4163.16089995 3525.65575678 3689.0816554\n",
            " 3730.96293036 3958.9075916  3690.44003947 3630.46246118 3645.28806717]\n",
            "Mean: 3782.1197041522296\n",
            "Std.dev: 222.12962277190186\n"
          ]
        }
      ],
      "source": [
        "scores = cross_val_score(Tree_model, X_prepared, y, scoring=\"neg_mean_squared_error\", cv=10)\n",
        "DT_rmse_scores = np.sqrt(-scores)\n",
        "\n",
        "display_scores(DT_rmse_scores)"
      ]
    },
    {
      "cell_type": "markdown",
      "metadata": {
        "id": "hTpiZCYIQMBx"
      },
      "source": [
        "## The best model for our practice is `RF_model`."
      ]
    },
    {
      "cell_type": "markdown",
      "metadata": {
        "id": "4fzouP5bQbYj"
      },
      "source": [
        "# save model:\n"
      ]
    },
    {
      "cell_type": "code",
      "execution_count": 46,
      "metadata": {
        "id": "8u3pbxRMQkkH"
      },
      "outputs": [],
      "source": [
        "import pickle\n",
        "\n",
        "filename = 'RF_model_finally.pkl' # file_name\n",
        "with open(filename, 'wb') as file:\n",
        "    pickle.dump(RF_model, file)"
      ]
    },
    {
      "cell_type": "markdown",
      "metadata": {
        "id": "qeX6-4QzQ4FC"
      },
      "source": [
        "## ✔Now we determine `price` according to the data in `test_data`, which we are asked to predict:"
      ]
    },
    {
      "cell_type": "code",
      "execution_count": 47,
      "metadata": {
        "colab": {
          "base_uri": "https://localhost:8080/",
          "height": 238
        },
        "id": "hjpRV4JNQqKn",
        "outputId": "d6ea17ce-bbf5-47a0-9d2d-ab6a64f63ef2"
      },
      "outputs": [
        {
          "output_type": "execute_result",
          "data": {
            "text/plain": [
              "      airline  flight source_city departure_time stops   arrival_time  \\\n",
              "id                                                                      \n",
              "1   Air_India  AI-765     Kolkata        Evening   one          Night   \n",
              "2     Vistara  UK-747       Delhi  Early_Morning   one          Night   \n",
              "3   Air_India  AI-570      Mumbai  Early_Morning  zero  Early_Morning   \n",
              "4     AirAsia  I5-974   Hyderabad          Night   one     Late_Night   \n",
              "5   Air_India  AI-770     Kolkata          Night   one      Afternoon   \n",
              "\n",
              "   destination_city     class  duration  days_left  \n",
              "id                                                  \n",
              "1             Delhi  Business     28.25          2  \n",
              "2            Mumbai  Business     13.83         34  \n",
              "3           Chennai  Business      2.00         30  \n",
              "4             Delhi   Economy      5.17         26  \n",
              "5            Mumbai   Economy     16.33         35  "
            ],
            "text/html": [
              "\n",
              "  <div id=\"df-39492648-5f3a-4332-ad8f-5f11e9b6cafd\">\n",
              "    <div class=\"colab-df-container\">\n",
              "      <div>\n",
              "<style scoped>\n",
              "    .dataframe tbody tr th:only-of-type {\n",
              "        vertical-align: middle;\n",
              "    }\n",
              "\n",
              "    .dataframe tbody tr th {\n",
              "        vertical-align: top;\n",
              "    }\n",
              "\n",
              "    .dataframe thead th {\n",
              "        text-align: right;\n",
              "    }\n",
              "</style>\n",
              "<table border=\"1\" class=\"dataframe\">\n",
              "  <thead>\n",
              "    <tr style=\"text-align: right;\">\n",
              "      <th></th>\n",
              "      <th>airline</th>\n",
              "      <th>flight</th>\n",
              "      <th>source_city</th>\n",
              "      <th>departure_time</th>\n",
              "      <th>stops</th>\n",
              "      <th>arrival_time</th>\n",
              "      <th>destination_city</th>\n",
              "      <th>class</th>\n",
              "      <th>duration</th>\n",
              "      <th>days_left</th>\n",
              "    </tr>\n",
              "    <tr>\n",
              "      <th>id</th>\n",
              "      <th></th>\n",
              "      <th></th>\n",
              "      <th></th>\n",
              "      <th></th>\n",
              "      <th></th>\n",
              "      <th></th>\n",
              "      <th></th>\n",
              "      <th></th>\n",
              "      <th></th>\n",
              "      <th></th>\n",
              "    </tr>\n",
              "  </thead>\n",
              "  <tbody>\n",
              "    <tr>\n",
              "      <th>1</th>\n",
              "      <td>Air_India</td>\n",
              "      <td>AI-765</td>\n",
              "      <td>Kolkata</td>\n",
              "      <td>Evening</td>\n",
              "      <td>one</td>\n",
              "      <td>Night</td>\n",
              "      <td>Delhi</td>\n",
              "      <td>Business</td>\n",
              "      <td>28.25</td>\n",
              "      <td>2</td>\n",
              "    </tr>\n",
              "    <tr>\n",
              "      <th>2</th>\n",
              "      <td>Vistara</td>\n",
              "      <td>UK-747</td>\n",
              "      <td>Delhi</td>\n",
              "      <td>Early_Morning</td>\n",
              "      <td>one</td>\n",
              "      <td>Night</td>\n",
              "      <td>Mumbai</td>\n",
              "      <td>Business</td>\n",
              "      <td>13.83</td>\n",
              "      <td>34</td>\n",
              "    </tr>\n",
              "    <tr>\n",
              "      <th>3</th>\n",
              "      <td>Air_India</td>\n",
              "      <td>AI-570</td>\n",
              "      <td>Mumbai</td>\n",
              "      <td>Early_Morning</td>\n",
              "      <td>zero</td>\n",
              "      <td>Early_Morning</td>\n",
              "      <td>Chennai</td>\n",
              "      <td>Business</td>\n",
              "      <td>2.00</td>\n",
              "      <td>30</td>\n",
              "    </tr>\n",
              "    <tr>\n",
              "      <th>4</th>\n",
              "      <td>AirAsia</td>\n",
              "      <td>I5-974</td>\n",
              "      <td>Hyderabad</td>\n",
              "      <td>Night</td>\n",
              "      <td>one</td>\n",
              "      <td>Late_Night</td>\n",
              "      <td>Delhi</td>\n",
              "      <td>Economy</td>\n",
              "      <td>5.17</td>\n",
              "      <td>26</td>\n",
              "    </tr>\n",
              "    <tr>\n",
              "      <th>5</th>\n",
              "      <td>Air_India</td>\n",
              "      <td>AI-770</td>\n",
              "      <td>Kolkata</td>\n",
              "      <td>Night</td>\n",
              "      <td>one</td>\n",
              "      <td>Afternoon</td>\n",
              "      <td>Mumbai</td>\n",
              "      <td>Economy</td>\n",
              "      <td>16.33</td>\n",
              "      <td>35</td>\n",
              "    </tr>\n",
              "  </tbody>\n",
              "</table>\n",
              "</div>\n",
              "      <button class=\"colab-df-convert\" onclick=\"convertToInteractive('df-39492648-5f3a-4332-ad8f-5f11e9b6cafd')\"\n",
              "              title=\"Convert this dataframe to an interactive table.\"\n",
              "              style=\"display:none;\">\n",
              "        \n",
              "  <svg xmlns=\"http://www.w3.org/2000/svg\" height=\"24px\"viewBox=\"0 0 24 24\"\n",
              "       width=\"24px\">\n",
              "    <path d=\"M0 0h24v24H0V0z\" fill=\"none\"/>\n",
              "    <path d=\"M18.56 5.44l.94 2.06.94-2.06 2.06-.94-2.06-.94-.94-2.06-.94 2.06-2.06.94zm-11 1L8.5 8.5l.94-2.06 2.06-.94-2.06-.94L8.5 2.5l-.94 2.06-2.06.94zm10 10l.94 2.06.94-2.06 2.06-.94-2.06-.94-.94-2.06-.94 2.06-2.06.94z\"/><path d=\"M17.41 7.96l-1.37-1.37c-.4-.4-.92-.59-1.43-.59-.52 0-1.04.2-1.43.59L10.3 9.45l-7.72 7.72c-.78.78-.78 2.05 0 2.83L4 21.41c.39.39.9.59 1.41.59.51 0 1.02-.2 1.41-.59l7.78-7.78 2.81-2.81c.8-.78.8-2.07 0-2.86zM5.41 20L4 18.59l7.72-7.72 1.47 1.35L5.41 20z\"/>\n",
              "  </svg>\n",
              "      </button>\n",
              "      \n",
              "  <style>\n",
              "    .colab-df-container {\n",
              "      display:flex;\n",
              "      flex-wrap:wrap;\n",
              "      gap: 12px;\n",
              "    }\n",
              "\n",
              "    .colab-df-convert {\n",
              "      background-color: #E8F0FE;\n",
              "      border: none;\n",
              "      border-radius: 50%;\n",
              "      cursor: pointer;\n",
              "      display: none;\n",
              "      fill: #1967D2;\n",
              "      height: 32px;\n",
              "      padding: 0 0 0 0;\n",
              "      width: 32px;\n",
              "    }\n",
              "\n",
              "    .colab-df-convert:hover {\n",
              "      background-color: #E2EBFA;\n",
              "      box-shadow: 0px 1px 2px rgba(60, 64, 67, 0.3), 0px 1px 3px 1px rgba(60, 64, 67, 0.15);\n",
              "      fill: #174EA6;\n",
              "    }\n",
              "\n",
              "    [theme=dark] .colab-df-convert {\n",
              "      background-color: #3B4455;\n",
              "      fill: #D2E3FC;\n",
              "    }\n",
              "\n",
              "    [theme=dark] .colab-df-convert:hover {\n",
              "      background-color: #434B5C;\n",
              "      box-shadow: 0px 1px 3px 1px rgba(0, 0, 0, 0.15);\n",
              "      filter: drop-shadow(0px 1px 2px rgba(0, 0, 0, 0.3));\n",
              "      fill: #FFFFFF;\n",
              "    }\n",
              "  </style>\n",
              "\n",
              "      <script>\n",
              "        const buttonEl =\n",
              "          document.querySelector('#df-39492648-5f3a-4332-ad8f-5f11e9b6cafd button.colab-df-convert');\n",
              "        buttonEl.style.display =\n",
              "          google.colab.kernel.accessAllowed ? 'block' : 'none';\n",
              "\n",
              "        async function convertToInteractive(key) {\n",
              "          const element = document.querySelector('#df-39492648-5f3a-4332-ad8f-5f11e9b6cafd');\n",
              "          const dataTable =\n",
              "            await google.colab.kernel.invokeFunction('convertToInteractive',\n",
              "                                                     [key], {});\n",
              "          if (!dataTable) return;\n",
              "\n",
              "          const docLinkHtml = 'Like what you see? Visit the ' +\n",
              "            '<a target=\"_blank\" href=https://colab.research.google.com/notebooks/data_table.ipynb>data table notebook</a>'\n",
              "            + ' to learn more about interactive tables.';\n",
              "          element.innerHTML = '';\n",
              "          dataTable['output_type'] = 'display_data';\n",
              "          await google.colab.output.renderOutput(dataTable, element);\n",
              "          const docLink = document.createElement('div');\n",
              "          docLink.innerHTML = docLinkHtml;\n",
              "          element.appendChild(docLink);\n",
              "        }\n",
              "      </script>\n",
              "    </div>\n",
              "  </div>\n",
              "  "
            ]
          },
          "metadata": {},
          "execution_count": 47
        }
      ],
      "source": [
        "df_test_new = pd.read_csv('/content/test_data.csv',index_col=0)\n",
        "df_test_new.head()"
      ]
    },
    {
      "cell_type": "markdown",
      "metadata": {
        "id": "IaGzeRvWSCIa"
      },
      "source": [
        "## 👉`full_pipline` 👉 `RF_model`:"
      ]
    },
    {
      "cell_type": "code",
      "execution_count": 48,
      "metadata": {
        "colab": {
          "base_uri": "https://localhost:8080/"
        },
        "id": "jNggLmkYR-Z0",
        "outputId": "4dc57d57-0770-456d-bb7a-1972d72d5795"
      },
      "outputs": [
        {
          "output_type": "execute_result",
          "data": {
            "text/plain": [
              "array([[ 1.00000000e+00,  4.52000000e+02,  0.00000000e+00, ...,\n",
              "         2.00000000e+00,  2.17930407e+00, -1.75411081e+00],\n",
              "       [ 5.00000000e+00,  8.34000000e+02,  0.00000000e+00, ...,\n",
              "         5.00000000e+00,  2.05480508e-01,  5.83184361e-01],\n",
              "       [ 1.00000000e+00,  4.01000000e+02,  2.00000000e+00, ...,\n",
              "         1.00000000e+00, -1.41382134e+00,  2.91022465e-01],\n",
              "       ...,\n",
              "       [ 1.00000000e+00,  3.44000000e+02,  0.00000000e+00, ...,\n",
              "         5.00000000e+00, -1.58622867e-01,  8.02305784e-01],\n",
              "       [ 1.00000000e+00,  4.32000000e+02,  0.00000000e+00, ...,\n",
              "         3.00000000e+00,  1.37040024e-01,  8.75346258e-01],\n",
              "       [ 5.00000000e+00,  8.39000000e+02,  0.00000000e+00, ...,\n",
              "         2.00000000e+00,  5.13462686e-01,  1.67879147e+00]])"
            ]
          },
          "metadata": {},
          "execution_count": 48
        }
      ],
      "source": [
        "df_test_prepared = full_pipeline.fit_transform(df_test_new)\n",
        "df_test_prepared"
      ]
    },
    {
      "cell_type": "markdown",
      "metadata": {
        "id": "T0X1gw0ES_n1"
      },
      "source": [
        "### Predict:"
      ]
    },
    {
      "cell_type": "code",
      "execution_count": 49,
      "metadata": {
        "colab": {
          "base_uri": "https://localhost:8080/"
        },
        "id": "nYZQIrW1SkRg",
        "outputId": "5d1c38eb-7ac5-42f7-ce0d-4c9e4d0495cb"
      },
      "outputs": [
        {
          "output_type": "execute_result",
          "data": {
            "text/plain": [
              "array([53099.19, 46738.6 , 24808.39, ..., 52346.  , 52299.43, 48774.28])"
            ]
          },
          "metadata": {},
          "execution_count": 49
        }
      ],
      "source": [
        "df_pred = RF_model.predict(df_test_prepared)\n",
        "df_pred"
      ]
    },
    {
      "cell_type": "code",
      "execution_count": 50,
      "metadata": {
        "id": "rD6sAMcvS5h0"
      },
      "outputs": [],
      "source": [
        "answer_df = pd.read_csv(\"/content/sample_solution.csv\",index_col=0)\n",
        "answer_df['price'] = df_pred.astype(int)"
      ]
    },
    {
      "cell_type": "code",
      "execution_count": 51,
      "metadata": {
        "colab": {
          "base_uri": "https://localhost:8080/",
          "height": 455
        },
        "id": "Q_EXkKHLUXeS",
        "outputId": "9a31a9c5-e28a-4dee-986f-370250418806"
      },
      "outputs": [
        {
          "output_type": "execute_result",
          "data": {
            "text/plain": [
              "      price\n",
              "id         \n",
              "1     53099\n",
              "2     46738\n",
              "3     24808\n",
              "4      3274\n",
              "5     10862\n",
              "...     ...\n",
              "4996  56919\n",
              "4997   4477\n",
              "4998  52346\n",
              "4999  52299\n",
              "5000  48774\n",
              "\n",
              "[5000 rows x 1 columns]"
            ],
            "text/html": [
              "\n",
              "  <div id=\"df-6fee9ca3-624a-40a6-a022-d8b520b39dc0\">\n",
              "    <div class=\"colab-df-container\">\n",
              "      <div>\n",
              "<style scoped>\n",
              "    .dataframe tbody tr th:only-of-type {\n",
              "        vertical-align: middle;\n",
              "    }\n",
              "\n",
              "    .dataframe tbody tr th {\n",
              "        vertical-align: top;\n",
              "    }\n",
              "\n",
              "    .dataframe thead th {\n",
              "        text-align: right;\n",
              "    }\n",
              "</style>\n",
              "<table border=\"1\" class=\"dataframe\">\n",
              "  <thead>\n",
              "    <tr style=\"text-align: right;\">\n",
              "      <th></th>\n",
              "      <th>price</th>\n",
              "    </tr>\n",
              "    <tr>\n",
              "      <th>id</th>\n",
              "      <th></th>\n",
              "    </tr>\n",
              "  </thead>\n",
              "  <tbody>\n",
              "    <tr>\n",
              "      <th>1</th>\n",
              "      <td>53099</td>\n",
              "    </tr>\n",
              "    <tr>\n",
              "      <th>2</th>\n",
              "      <td>46738</td>\n",
              "    </tr>\n",
              "    <tr>\n",
              "      <th>3</th>\n",
              "      <td>24808</td>\n",
              "    </tr>\n",
              "    <tr>\n",
              "      <th>4</th>\n",
              "      <td>3274</td>\n",
              "    </tr>\n",
              "    <tr>\n",
              "      <th>5</th>\n",
              "      <td>10862</td>\n",
              "    </tr>\n",
              "    <tr>\n",
              "      <th>...</th>\n",
              "      <td>...</td>\n",
              "    </tr>\n",
              "    <tr>\n",
              "      <th>4996</th>\n",
              "      <td>56919</td>\n",
              "    </tr>\n",
              "    <tr>\n",
              "      <th>4997</th>\n",
              "      <td>4477</td>\n",
              "    </tr>\n",
              "    <tr>\n",
              "      <th>4998</th>\n",
              "      <td>52346</td>\n",
              "    </tr>\n",
              "    <tr>\n",
              "      <th>4999</th>\n",
              "      <td>52299</td>\n",
              "    </tr>\n",
              "    <tr>\n",
              "      <th>5000</th>\n",
              "      <td>48774</td>\n",
              "    </tr>\n",
              "  </tbody>\n",
              "</table>\n",
              "<p>5000 rows × 1 columns</p>\n",
              "</div>\n",
              "      <button class=\"colab-df-convert\" onclick=\"convertToInteractive('df-6fee9ca3-624a-40a6-a022-d8b520b39dc0')\"\n",
              "              title=\"Convert this dataframe to an interactive table.\"\n",
              "              style=\"display:none;\">\n",
              "        \n",
              "  <svg xmlns=\"http://www.w3.org/2000/svg\" height=\"24px\"viewBox=\"0 0 24 24\"\n",
              "       width=\"24px\">\n",
              "    <path d=\"M0 0h24v24H0V0z\" fill=\"none\"/>\n",
              "    <path d=\"M18.56 5.44l.94 2.06.94-2.06 2.06-.94-2.06-.94-.94-2.06-.94 2.06-2.06.94zm-11 1L8.5 8.5l.94-2.06 2.06-.94-2.06-.94L8.5 2.5l-.94 2.06-2.06.94zm10 10l.94 2.06.94-2.06 2.06-.94-2.06-.94-.94-2.06-.94 2.06-2.06.94z\"/><path d=\"M17.41 7.96l-1.37-1.37c-.4-.4-.92-.59-1.43-.59-.52 0-1.04.2-1.43.59L10.3 9.45l-7.72 7.72c-.78.78-.78 2.05 0 2.83L4 21.41c.39.39.9.59 1.41.59.51 0 1.02-.2 1.41-.59l7.78-7.78 2.81-2.81c.8-.78.8-2.07 0-2.86zM5.41 20L4 18.59l7.72-7.72 1.47 1.35L5.41 20z\"/>\n",
              "  </svg>\n",
              "      </button>\n",
              "      \n",
              "  <style>\n",
              "    .colab-df-container {\n",
              "      display:flex;\n",
              "      flex-wrap:wrap;\n",
              "      gap: 12px;\n",
              "    }\n",
              "\n",
              "    .colab-df-convert {\n",
              "      background-color: #E8F0FE;\n",
              "      border: none;\n",
              "      border-radius: 50%;\n",
              "      cursor: pointer;\n",
              "      display: none;\n",
              "      fill: #1967D2;\n",
              "      height: 32px;\n",
              "      padding: 0 0 0 0;\n",
              "      width: 32px;\n",
              "    }\n",
              "\n",
              "    .colab-df-convert:hover {\n",
              "      background-color: #E2EBFA;\n",
              "      box-shadow: 0px 1px 2px rgba(60, 64, 67, 0.3), 0px 1px 3px 1px rgba(60, 64, 67, 0.15);\n",
              "      fill: #174EA6;\n",
              "    }\n",
              "\n",
              "    [theme=dark] .colab-df-convert {\n",
              "      background-color: #3B4455;\n",
              "      fill: #D2E3FC;\n",
              "    }\n",
              "\n",
              "    [theme=dark] .colab-df-convert:hover {\n",
              "      background-color: #434B5C;\n",
              "      box-shadow: 0px 1px 3px 1px rgba(0, 0, 0, 0.15);\n",
              "      filter: drop-shadow(0px 1px 2px rgba(0, 0, 0, 0.3));\n",
              "      fill: #FFFFFF;\n",
              "    }\n",
              "  </style>\n",
              "\n",
              "      <script>\n",
              "        const buttonEl =\n",
              "          document.querySelector('#df-6fee9ca3-624a-40a6-a022-d8b520b39dc0 button.colab-df-convert');\n",
              "        buttonEl.style.display =\n",
              "          google.colab.kernel.accessAllowed ? 'block' : 'none';\n",
              "\n",
              "        async function convertToInteractive(key) {\n",
              "          const element = document.querySelector('#df-6fee9ca3-624a-40a6-a022-d8b520b39dc0');\n",
              "          const dataTable =\n",
              "            await google.colab.kernel.invokeFunction('convertToInteractive',\n",
              "                                                     [key], {});\n",
              "          if (!dataTable) return;\n",
              "\n",
              "          const docLinkHtml = 'Like what you see? Visit the ' +\n",
              "            '<a target=\"_blank\" href=https://colab.research.google.com/notebooks/data_table.ipynb>data table notebook</a>'\n",
              "            + ' to learn more about interactive tables.';\n",
              "          element.innerHTML = '';\n",
              "          dataTable['output_type'] = 'display_data';\n",
              "          await google.colab.output.renderOutput(dataTable, element);\n",
              "          const docLink = document.createElement('div');\n",
              "          docLink.innerHTML = docLinkHtml;\n",
              "          element.appendChild(docLink);\n",
              "        }\n",
              "      </script>\n",
              "    </div>\n",
              "  </div>\n",
              "  "
            ]
          },
          "metadata": {},
          "execution_count": 51
        }
      ],
      "source": [
        "answer_df"
      ]
    },
    {
      "cell_type": "code",
      "execution_count": 52,
      "metadata": {
        "id": "TOsdwwU-Uulu"
      },
      "outputs": [],
      "source": [
        "answer_df.to_csv('submission_data_final.csv')"
      ]
    },
    {
      "cell_type": "markdown",
      "source": [
        "# Thank you for your attention😊👨‍🎓"
      ],
      "metadata": {
        "id": "3XyCYdHi4otP"
      }
    }
  ],
  "metadata": {
    "colab": {
      "collapsed_sections": [],
      "provenance": []
    },
    "kernelspec": {
      "display_name": "Python 3",
      "name": "python3"
    },
    "language_info": {
      "name": "python"
    }
  },
  "nbformat": 4,
  "nbformat_minor": 0
}